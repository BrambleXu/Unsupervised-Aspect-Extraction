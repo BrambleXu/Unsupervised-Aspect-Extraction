{
 "cells": [
  {
   "cell_type": "markdown",
   "metadata": {},
   "source": [
    "# Background\n",
    "\n",
    "\n",
    "This notebook is to make a baseline for slot1, aspect category detection. We use glove to generate sentence vector. "
   ]
  },
  {
   "cell_type": "code",
   "execution_count": 2,
   "metadata": {
    "scrolled": true
   },
   "outputs": [
    {
     "name": "stderr",
     "output_type": "stream",
     "text": [
      "Using TensorFlow backend.\n"
     ]
    }
   ],
   "source": [
    "import pandas as pd\n",
    "import numpy as np\n",
    "from sklearn.model_selection import train_test_split\n",
    "from pathlib import Path\n",
    "import anago\n",
    "from anago.utils import load_data_and_labels, load_glove"
   ]
  },
  {
   "cell_type": "code",
   "execution_count": 3,
   "metadata": {},
   "outputs": [
    {
     "name": "stdout",
     "output_type": "stream",
     "text": [
      "\u001b[1m\u001b[36mraw-semeval-2016\u001b[m\u001b[m/ restaurant2.zip   \u001b[1m\u001b[36msemeval-2016\u001b[m\u001b[m/\r\n",
      "\u001b[1m\u001b[36mrestaurant\u001b[m\u001b[m/       \u001b[1m\u001b[36mrestaurant_small\u001b[m\u001b[m/\r\n"
     ]
    }
   ],
   "source": [
    "ls ../datasets/"
   ]
  },
  {
   "cell_type": "code",
   "execution_count": 4,
   "metadata": {},
   "outputs": [],
   "source": [
    "train_path = Path.cwd().parent.joinpath('datasets/semeval-2016/train.csv')\n",
    "test_path = Path.cwd().parent.joinpath('datasets/semeval-2016/test.csv')"
   ]
  },
  {
   "cell_type": "code",
   "execution_count": 5,
   "metadata": {},
   "outputs": [],
   "source": [
    "# Read data\n",
    "data_train = pd.read_csv(train_path)\n",
    "data_test = pd.read_csv(test_path)"
   ]
  },
  {
   "cell_type": "code",
   "execution_count": 6,
   "metadata": {},
   "outputs": [],
   "source": [
    "def df2data(df):\n",
    "    \"\"\"Read data and labels from dataframe\n",
    "    Input:\n",
    "        df: three columns, ['Sentence #', 'Tag', 'Word']\n",
    "    Output:\n",
    "        data: datasize * ['EU', 'rejects', 'German', 'call', 'to', 'boycott', 'British', 'lamb', '.']\n",
    "        label: datasize * ['B-ORG', 'O', 'B-MISC', 'O', 'O', 'O', 'B-MISC', 'O', 'O']\n",
    "    \"\"\"\n",
    "    agg_func = lambda s: [(w, t) for w, t in zip(s[\"Word\"].values.tolist(),\n",
    "                                                 s[\"Tag\"].values.tolist())]\n",
    "    grouped = df.groupby(\"Sentence #\").apply(agg_func)\n",
    "    data = [[w[0] for w in s] for s in grouped]\n",
    "    label = [[w[1] for w in s] for s in grouped]  \n",
    "    \n",
    "    return data, label"
   ]
  },
  {
   "cell_type": "code",
   "execution_count": 7,
   "metadata": {},
   "outputs": [],
   "source": [
    "x_train_words, _ = df2data(data_train)\n",
    "x_test_words, _ = df2data(data_test)"
   ]
  },
  {
   "cell_type": "markdown",
   "metadata": {},
   "source": [
    "### embedding"
   ]
  },
  {
   "cell_type": "code",
   "execution_count": 11,
   "metadata": {},
   "outputs": [],
   "source": [
    "EMBEDDING_PATH = '../embedding_weights/glove.840B.300d.txt'"
   ]
  },
  {
   "cell_type": "code",
   "execution_count": 12,
   "metadata": {},
   "outputs": [],
   "source": [
    "embeddings = load_glove(EMBEDDING_PATH)"
   ]
  },
  {
   "cell_type": "markdown",
   "metadata": {},
   "source": [
    "No need to padding"
   ]
  },
  {
   "cell_type": "code",
   "execution_count": 13,
   "metadata": {},
   "outputs": [],
   "source": [
    "def word2vector(x_words):\n",
    "\n",
    "    sentence_vectors = []\n",
    "\n",
    "    for sent in x_words:\n",
    "        one_sentence = [0]*300\n",
    "        for word in sent:\n",
    "            if not embeddings.get(word) is None:\n",
    "                one_sentence += embeddings[word]\n",
    "        sentence_vectors.append(one_sentence)\n",
    "    return np.array(sentence_vectors)"
   ]
  },
  {
   "cell_type": "code",
   "execution_count": 14,
   "metadata": {},
   "outputs": [],
   "source": [
    "x_train = word2vector(x_train_words)\n",
    "x_test = word2vector(x_test_words)"
   ]
  },
  {
   "cell_type": "code",
   "execution_count": 15,
   "metadata": {},
   "outputs": [
    {
     "name": "stdout",
     "output_type": "stream",
     "text": [
      "2000\n",
      "676\n",
      "<class 'numpy.ndarray'>\n",
      "<class 'numpy.ndarray'>\n"
     ]
    }
   ],
   "source": [
    "print(len(x_train))\n",
    "print(len(x_test))\n",
    "print(type(x_train))\n",
    "print(type(x_train[0]))"
   ]
  },
  {
   "cell_type": "markdown",
   "metadata": {},
   "source": [
    "add attention feature "
   ]
  },
  {
   "cell_type": "code",
   "execution_count": 16,
   "metadata": {},
   "outputs": [],
   "source": [
    "train_path = Path.cwd().parent.joinpath('datasets/semeval-2016/slot1/train_att_sentence.npy')\n",
    "test_path = Path.cwd().parent.joinpath('datasets/semeval-2016/slot1/test_att_sentence.npy')"
   ]
  },
  {
   "cell_type": "code",
   "execution_count": 17,
   "metadata": {},
   "outputs": [],
   "source": [
    "att_train_feature = np.load(train_path)\n",
    "att_test_feature = np.load(test_path)"
   ]
  },
  {
   "cell_type": "code",
   "execution_count": 18,
   "metadata": {},
   "outputs": [
    {
     "data": {
      "text/plain": [
       "(2000, 200)"
      ]
     },
     "execution_count": 18,
     "metadata": {},
     "output_type": "execute_result"
    }
   ],
   "source": [
    "att_train_feature.shape"
   ]
  },
  {
   "cell_type": "code",
   "execution_count": 19,
   "metadata": {},
   "outputs": [
    {
     "data": {
      "text/plain": [
       "(2000, 300)"
      ]
     },
     "execution_count": 19,
     "metadata": {},
     "output_type": "execute_result"
    }
   ],
   "source": [
    "x_train.shape"
   ]
  },
  {
   "cell_type": "code",
   "execution_count": 30,
   "metadata": {},
   "outputs": [
    {
     "name": "stdout",
     "output_type": "stream",
     "text": [
      "(2000, 500)\n",
      "(676, 500)\n"
     ]
    }
   ],
   "source": [
    "x_train = np.concatenate((x_train, att_train_feature), axis=1)\n",
    "x_test = np.concatenate((x_test, att_test_feature), axis=1)\n",
    "print(x_train.shape)\n",
    "print(x_test.shape)"
   ]
  },
  {
   "cell_type": "markdown",
   "metadata": {},
   "source": [
    "normalize the data "
   ]
  },
  {
   "cell_type": "code",
   "execution_count": 21,
   "metadata": {},
   "outputs": [],
   "source": [
    "from sklearn import preprocessing"
   ]
  },
  {
   "cell_type": "code",
   "execution_count": 22,
   "metadata": {},
   "outputs": [
    {
     "data": {
      "text/plain": [
       "StandardScaler(copy=True, with_mean=True, with_std=True)"
      ]
     },
     "execution_count": 22,
     "metadata": {},
     "output_type": "execute_result"
    }
   ],
   "source": [
    "scaler = preprocessing.StandardScaler().fit(x_train)\n",
    "scaler"
   ]
  },
  {
   "cell_type": "code",
   "execution_count": 24,
   "metadata": {},
   "outputs": [
    {
     "data": {
      "text/plain": [
       "array([[-0.73575327,  0.52554607, -1.08199402, ..., -1.07554505,\n",
       "        -1.08445977,  0.88927701],\n",
       "       [-0.58087701,  2.36753643, -1.8801042 , ...,  0.92336322,\n",
       "         1.39767802, -1.16058099],\n",
       "       [-2.09565181,  0.30195656, -0.35252755, ..., -0.28339354,\n",
       "        -0.10923064,  0.60763584],\n",
       "       ...,\n",
       "       [ 1.50312929,  1.94025992, -1.61259435, ...,  0.97949915,\n",
       "        -0.64245431, -0.927687  ],\n",
       "       [ 0.81004495,  0.85649514, -3.05478256, ..., -0.4421231 ,\n",
       "         1.25403495, -0.78690922],\n",
       "       [ 0.44834762,  1.00423237, -1.72283029, ...,  0.5594729 ,\n",
       "         0.62216571,  2.27981089]])"
      ]
     },
     "execution_count": 24,
     "metadata": {},
     "output_type": "execute_result"
    }
   ],
   "source": [
    "scaler.transform(x_train)"
   ]
  },
  {
   "cell_type": "code",
   "execution_count": 26,
   "metadata": {},
   "outputs": [],
   "source": [
    "x_train = scaler.transform(x_train)\n",
    "x_test = scaler.transform(x_test)"
   ]
  },
  {
   "cell_type": "markdown",
   "metadata": {},
   "source": [
    "### label \n",
    "\n",
    "this is a multicalss classification"
   ]
  },
  {
   "cell_type": "code",
   "execution_count": 27,
   "metadata": {},
   "outputs": [],
   "source": [
    "train_path = Path.cwd().parent.joinpath('datasets/semeval-2016/slot1/train_label_df.csv')\n",
    "test_path = Path.cwd().parent.joinpath('datasets/semeval-2016/slot1/test_label_df.csv')"
   ]
  },
  {
   "cell_type": "code",
   "execution_count": 28,
   "metadata": {},
   "outputs": [],
   "source": [
    "y_train_df = pd.read_csv(train_path)\n",
    "y_test_df = pd.read_csv(test_path)"
   ]
  },
  {
   "cell_type": "code",
   "execution_count": 29,
   "metadata": {},
   "outputs": [
    {
     "data": {
      "text/plain": [
       "array([[0, 0, 0, ..., 0, 0, 0],\n",
       "       [0, 0, 0, ..., 0, 0, 1],\n",
       "       [0, 0, 0, ..., 0, 0, 1],\n",
       "       ...,\n",
       "       [0, 0, 0, ..., 0, 0, 1],\n",
       "       [0, 0, 0, ..., 0, 0, 1],\n",
       "       [0, 0, 0, ..., 0, 0, 1]])"
      ]
     },
     "execution_count": 29,
     "metadata": {},
     "output_type": "execute_result"
    }
   ],
   "source": [
    "y_train_df.values"
   ]
  },
  {
   "cell_type": "code",
   "execution_count": 30,
   "metadata": {},
   "outputs": [],
   "source": [
    "y_train = y_train_df.values\n",
    "y_test = y_test_df.values"
   ]
  },
  {
   "cell_type": "markdown",
   "metadata": {},
   "source": [
    "# model construct"
   ]
  },
  {
   "cell_type": "code",
   "execution_count": 31,
   "metadata": {},
   "outputs": [],
   "source": [
    "from sklearn.multiclass import OneVsRestClassifier\n",
    "from sklearn.linear_model import LogisticRegression\n",
    "\n",
    "ovr = OneVsRestClassifier(LogisticRegression())"
   ]
  },
  {
   "cell_type": "code",
   "execution_count": 32,
   "metadata": {},
   "outputs": [
    {
     "name": "stdout",
     "output_type": "stream",
     "text": [
      "(2000, 300)\n",
      "(2000, 12)\n",
      "[learning_curve] Training set sizes: [ 160  520  880 1240 1600]\n",
      "[CV]  ................................................................\n",
      "[CV] ................................... , score=0.4025, total=   0.2s\n",
      "[CV]  ................................................................\n"
     ]
    },
    {
     "name": "stderr",
     "output_type": "stream",
     "text": [
      "[Parallel(n_jobs=1)]: Done   1 out of   1 | elapsed:    0.2s remaining:    0.0s\n"
     ]
    },
    {
     "name": "stdout",
     "output_type": "stream",
     "text": [
      "[CV] ................................... , score=0.4325, total=   0.5s\n",
      "[CV]  ................................................................\n"
     ]
    },
    {
     "name": "stderr",
     "output_type": "stream",
     "text": [
      "[Parallel(n_jobs=1)]: Done   2 out of   2 | elapsed:    0.7s remaining:    0.0s\n"
     ]
    },
    {
     "name": "stdout",
     "output_type": "stream",
     "text": [
      "[CV] ..................................... , score=0.45, total=   1.1s\n",
      "[CV]  ................................................................\n"
     ]
    },
    {
     "name": "stderr",
     "output_type": "stream",
     "text": [
      "[Parallel(n_jobs=1)]: Done   3 out of   3 | elapsed:    1.9s remaining:    0.0s\n"
     ]
    },
    {
     "name": "stdout",
     "output_type": "stream",
     "text": [
      "[CV] .................................... , score=0.475, total=   1.8s\n",
      "[CV]  ................................................................\n",
      "[CV] ................................... , score=0.4625, total=   2.4s\n",
      "[CV]  ................................................................\n",
      "[CV] .................................... , score=0.265, total=   0.1s\n",
      "[CV]  ................................................................\n",
      "[CV] ..................................... , score=0.37, total=   0.6s\n",
      "[CV]  ................................................................\n",
      "[CV] ................................... , score=0.3575, total=   1.1s\n",
      "[CV]  ................................................................\n",
      "[CV] .................................... , score=0.355, total=   1.8s\n",
      "[CV]  ................................................................\n",
      "[CV] ..................................... , score=0.41, total=   2.4s\n",
      "[CV]  ................................................................\n",
      "[CV] ..................................... , score=0.25, total=   0.1s\n",
      "[CV]  ................................................................\n"
     ]
    },
    {
     "name": "stderr",
     "output_type": "stream",
     "text": [
      "/anaconda3/envs/py36/lib/python3.6/site-packages/sklearn/multiclass.py:76: UserWarning: Label not 1 is present in all training examples.\n",
      "  str(classes[c]))\n"
     ]
    },
    {
     "name": "stdout",
     "output_type": "stream",
     "text": [
      "[CV] ................................... , score=0.3625, total=   0.6s\n",
      "[CV]  ................................................................\n",
      "[CV] ................................... , score=0.4075, total=   1.1s\n",
      "[CV]  ................................................................\n",
      "[CV] ................................... , score=0.4275, total=   1.7s\n",
      "[CV]  ................................................................\n",
      "[CV] .................................... , score=0.445, total=   2.6s\n",
      "[CV]  ................................................................\n",
      "[CV] .................................... , score=0.255, total=   0.1s\n",
      "[CV]  ................................................................\n",
      "[CV] ................................... , score=0.3625, total=   0.6s\n",
      "[CV]  ................................................................\n",
      "[CV] .................................... , score=0.365, total=   1.1s\n",
      "[CV]  ................................................................\n",
      "[CV] ................................... , score=0.3825, total=   1.8s\n",
      "[CV]  ................................................................\n",
      "[CV] .................................... , score=0.405, total=   2.5s\n",
      "[CV]  ................................................................\n",
      "[CV] ................................... , score=0.2975, total=   0.1s\n",
      "[CV]  ................................................................\n"
     ]
    },
    {
     "name": "stderr",
     "output_type": "stream",
     "text": [
      "/anaconda3/envs/py36/lib/python3.6/site-packages/sklearn/multiclass.py:76: UserWarning: Label not 7 is present in all training examples.\n",
      "  str(classes[c]))\n"
     ]
    },
    {
     "name": "stdout",
     "output_type": "stream",
     "text": [
      "[CV] ................................... , score=0.3125, total=   0.6s\n",
      "[CV]  ................................................................\n",
      "[CV] ................................... , score=0.3475, total=   1.0s\n",
      "[CV]  ................................................................\n",
      "[CV] ................................... , score=0.3975, total=   1.7s\n",
      "[CV]  ................................................................\n",
      "[CV] ................................... , score=0.3825, total=   2.5s\n"
     ]
    },
    {
     "name": "stderr",
     "output_type": "stream",
     "text": [
      "[Parallel(n_jobs=1)]: Done  25 out of  25 | elapsed:   30.3s finished\n"
     ]
    },
    {
     "data": {
      "image/png": "[encoded data removed]",
      "text/plain": [
       "<matplotlib.figure.Figure at 0x13c56fbe0>"
      ]
     },
     "metadata": {},
     "output_type": "display_data"
    }
   ],
   "source": [
    "# first to see the cv result \n",
    "from sklearn.model_selection import learning_curve\n",
    "import matplotlib.pyplot as plt\n",
    "from sklearn.model_selection import ShuffleSplit\n",
    "from sklearn.multiclass import OneVsRestClassifier\n",
    "from sklearn.linear_model import LogisticRegression\n",
    "\n",
    "\n",
    "%matplotlib inline\n",
    "\n",
    "# learning curve function\n",
    "# http://scikit-learn.org/stable/auto_examples/model_selection/plot_learning_curve.html\n",
    "\n",
    "def plot_learning_curve(\n",
    "        estimator, title, X, y, ylim=None, cv=None,\n",
    "        n_jobs=1, train_sizes=np.linspace(.1, 1.0, 5), verbose=0):\n",
    "\n",
    "    plt.figure()\n",
    "    plt.title(title)\n",
    "    if ylim is not None:\n",
    "        plt.ylim(*ylim)\n",
    "    plt.xlabel(\"Training examples\")\n",
    "    plt.ylabel(\"Score\")\n",
    "    train_sizes, train_scores, test_scores = learning_curve(\n",
    "        estimator, X, y, cv=cv, n_jobs=n_jobs, train_sizes=train_sizes, verbose=verbose)\n",
    "    train_scores_mean = np.mean(train_scores, axis=1)\n",
    "    train_scores_std = np.std(train_scores, axis=1)\n",
    "    test_scores_mean = np.mean(test_scores, axis=1)\n",
    "    test_scores_std = np.std(test_scores, axis=1)\n",
    "    plt.grid()\n",
    "\n",
    "    plt.fill_between(train_sizes, train_scores_mean - train_scores_std,\n",
    "                     train_scores_mean + train_scores_std, alpha=0.1,\n",
    "                     color=\"r\")\n",
    "    plt.fill_between(train_sizes, test_scores_mean - test_scores_std,\n",
    "                     test_scores_mean + test_scores_std, alpha=0.1, color=\"g\")\n",
    "    plt.plot(train_sizes, train_scores_mean, 'o-', color=\"r\",\n",
    "             label=\"Training score\")\n",
    "    plt.plot(train_sizes, test_scores_mean, 'o-', color=\"g\",\n",
    "             label=\"Cross-validation score\")\n",
    "\n",
    "    plt.legend(loc=\"best\")\n",
    "    return plt\n",
    "\n",
    "\n",
    "cv = ShuffleSplit(n_splits=5, test_size=0.2, random_state=0)\n",
    "ovr = OneVsRestClassifier(LogisticRegression())\n",
    "\n",
    "X = x_train\n",
    "train_labels = y_train\n",
    "print(X.shape)\n",
    "print(train_labels.shape)\n",
    "plot_learning_curve(ovr, \"Slot1 baseline learning curve \",\n",
    "                    X, train_labels, ylim=(0.0, 1.01), cv=cv, n_jobs=1, verbose=4)\n",
    "\n",
    "plt.show()"
   ]
  },
  {
   "cell_type": "code",
   "execution_count": 33,
   "metadata": {},
   "outputs": [],
   "source": [
    "from sklearn.utils import shuffle\n",
    "from sklearn.metrics import f1_score\n",
    "\n",
    "def loop_predict(model, x_train, x_test, y_train, y_test, loop=5):\n",
    "    f1 = []\n",
    "    for i in range(loop):\n",
    "        x_train, x_test = shuffle(x_train, x_test)\n",
    "        model.fit(x_train, x_test)\n",
    "        y_pred = model.predict(y_train)\n",
    "        micro_f1 = f1_score(y_test, y_pred, average='micro')\n",
    "        f1.append(micro_f1)\n",
    "    print(\"F1 is {} (+/-{})\".format(np.mean(f1), np.std(f1)))\n",
    "    return model"
   ]
  },
  {
   "cell_type": "code",
   "execution_count": 34,
   "metadata": {},
   "outputs": [],
   "source": [
    "train_x = x_train\n",
    "train_labels = y_train\n",
    "test_x = x_test\n",
    "test_labels = y_test"
   ]
  },
  {
   "cell_type": "code",
   "execution_count": 35,
   "metadata": {
    "scrolled": false
   },
   "outputs": [
    {
     "name": "stdout",
     "output_type": "stream",
     "text": [
      "F1 is 0.5894172806430007 (+/-0.0)\n"
     ]
    }
   ],
   "source": [
    "ovr = OneVsRestClassifier(LogisticRegression())\n",
    "\n",
    "model1 = loop_predict(ovr, train_x, train_labels, test_x, test_labels)"
   ]
  },
  {
   "cell_type": "markdown",
   "metadata": {},
   "source": [
    "no StandardScaler: f1 : 0.5727\n",
    "with standardScaler: f1: 0.589"
   ]
  },
  {
   "cell_type": "code",
   "execution_count": null,
   "metadata": {},
   "outputs": [],
   "source": []
  },
  {
   "cell_type": "code",
   "execution_count": null,
   "metadata": {},
   "outputs": [],
   "source": []
  }
 ],
 "metadata": {
  "kernelspec": {
   "display_name": "Python [conda env:py36]",
   "language": "python",
   "name": "conda-env-py36-py"
  },
  "language_info": {
   "codemirror_mode": {
    "name": "ipython",
    "version": 3
   },
   "file_extension": ".py",
   "mimetype": "text/x-python",
   "name": "python",
   "nbconvert_exporter": "python",
   "pygments_lexer": "ipython3",
   "version": "3.6.4"
  }
 },
 "nbformat": 4,
 "nbformat_minor": 2
}
