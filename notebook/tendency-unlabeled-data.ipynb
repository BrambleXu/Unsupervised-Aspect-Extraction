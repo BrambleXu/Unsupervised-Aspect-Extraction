{
 "cells": [
  {
   "cell_type": "code",
   "execution_count": 11,
   "metadata": {},
   "outputs": [
    {
     "data": {
      "text/plain": [
       "'host:0.39041287'"
      ]
     },
     "execution_count": 11,
     "metadata": {},
     "output_type": "execute_result"
    }
   ],
   "source": [
    "a1.strip().split()[3]"
   ]
  },
  {
   "cell_type": "code",
   "execution_count": 12,
   "metadata": {},
   "outputs": [
    {
     "data": {
      "text/plain": [
       "True"
      ]
     },
     "execution_count": 12,
     "metadata": {},
     "output_type": "execute_result"
    }
   ],
   "source": [
    "'host' in a1.strip().split()[3]"
   ]
  },
  {
   "cell_type": "code",
   "execution_count": 14,
   "metadata": {},
   "outputs": [
    {
     "data": {
      "text/plain": [
       "True"
      ]
     },
     "execution_count": 14,
     "metadata": {},
     "output_type": "execute_result"
    }
   ],
   "source": [
    "'vegetable' in main_dishes"
   ]
  },
  {
   "cell_type": "code",
   "execution_count": 15,
   "metadata": {},
   "outputs": [
    {
     "data": {
      "text/plain": [
       "'vegetable risotto lasagna stew halibut dish broth veal meatball spaghetti duck tofu salmon ragu ravioli boar skate squid starter monkfish octopus sardine mushroom gnocchi swordfish meaty beef flavor meat steamed char lamb rabbit cod spiced roasted grilled oxtail scallop trout ceviche venison sausage pollo penne seafood artichoke samosa skewer flavour kebab curry croquette pasta sauce prawn sweetbread skordalia dumpling cabbage pea udon succulent marinated liver snapper masala eater breast broccoli casserole al rabe eggplant tandoori wild chicken sole lasagne tender paneer branzino crispy veggie carpaccio cous garnish vindaloo shrimp bolognese paella fish polenta sliced sauteed rice mussel fettucine quail chorizoplump flaky skin smothered lightly topped dried finger burned rubbery atop undercooked fingerling salted soggy shredded sauteed succulent toasted angus encrusted boiled stir breaded poached crispy blackened chunky cucumber tangy cheddar crusted leek buttery pancetta flavorless wedge juicy sliced rosemary seed roe drenched watercress thinly ham charred jalapeno chewy smoked limp wilted edamame cauliflower skinned caper marinated delish drowned canadian scallion broiled ring chive minced addictive thick bed kidney corn herb buffalo avocado rubbed lox overdone horseradish ahi wrapped swimming pickled laden saffron breast saturated cilantro tomatoe cob mustard inedible rye braised tender wasabi zesty shepherd gummy baked mushy aioli'"
      ]
     },
     "execution_count": 15,
     "metadata": {},
     "output_type": "execute_result"
    }
   ],
   "source": [
    "main_dishes + ingredient"
   ]
  },
  {
   "cell_type": "code",
   "execution_count": 13,
   "metadata": {},
   "outputs": [],
   "source": [
    "main_dishes = 'vegetable risotto lasagna stew halibut dish broth veal meatball spaghetti duck tofu salmon ragu ravioli boar skate squid starter monkfish octopus sardine mushroom gnocchi swordfish meaty beef flavor meat steamed char lamb rabbit cod spiced roasted grilled oxtail scallop trout ceviche venison sausage pollo penne seafood artichoke samosa skewer flavour kebab curry croquette pasta sauce prawn sweetbread skordalia dumpling cabbage pea udon succulent marinated liver snapper masala eater breast broccoli casserole al rabe eggplant tandoori wild chicken sole lasagne tender paneer branzino crispy veggie carpaccio cous garnish vindaloo shrimp bolognese paella fish polenta sliced sauteed rice mussel fettucine quail chorizo'\n",
    "ingredient = 'plump flaky skin smothered lightly topped dried finger burned rubbery atop undercooked fingerling salted soggy shredded sauteed succulent toasted angus encrusted boiled stir breaded poached crispy blackened chunky cucumber tangy cheddar crusted leek buttery pancetta flavorless wedge juicy sliced rosemary seed roe drenched watercress thinly ham charred jalapeno chewy smoked limp wilted edamame cauliflower skinned caper marinated delish drowned canadian scallion broiled ring chive minced addictive thick bed kidney corn herb buffalo avocado rubbed lox overdone horseradish ahi wrapped swimming pickled laden saffron breast saturated cilantro tomatoe cob mustard inedible rye braised tender wasabi zesty shepherd gummy baked mushy aioli'\n",
    "\n",
    "dessert = 'tiramisu cheesecake gelato espresso banana sorbet creme brulee icecream souffle strawberry mojito raspberry desert caramel lemonade mousse cooky donut cannoli cappuccino sundae flan brownie tart peach pudding chocolate shortcake pistachio hazelnut lychee apple mocha vanilla blueberry torte cotta cobbler foster mojitos berry crepe grappa martini panna mint croissant smoothy doughnut tres lech passion lassi custard shake milk brule fruit tatin cannolis watermelon toffee biscotti fondue dessert pear cookie mango kiwi cream spumoni fudge cosmos cone rum cosmo latte leche almond marshmallow puff iced tapioca rasberry cherry beignet rhubarb bellini pecan ice nutella grapefruit profiterole scone coconut souffl meringue margarita sangria'\n",
    "general = 'excellent fantastic outstanding superb solid exceptional terrific incredible unique fabulous great wonderful amazing creative interesting impressive affordable extensive exquisite delightful delicious innovative inventive unbelievable phenomenal match inexpensive exciting unusual impeccable offer varied exotic satisfying tasty yummy authentic traditional unbeatable awesome diverse wide refreshing decent good spectacular tremendous includes gourmet simple reliable variety array reasonable fine sophisticated perfect spanish greek provides basic reasonably extraordinary eclectic plentiful various provide inspired selection knowledge imaginative pleased feature nice consistent amazingly serf healthy vast enjoyable greatest scrumptious pleasant expert lovely hearty impressed knowledgeable elegant stunning compliment choose surprising delectable stellar fair loved cuisine excelent including'\n",
    "\n",
    "\n",
    "price = 'dollar cost minimum tab buck fixe per tax pp cent bargain prix oz percent tip whopping alcohol steal total gratuity prixe bill charge pm fee range charged fix included additional fixed bottle nearly min se ppl paid entree bang pre discount unlimited considering hefty beverage incl available amount paying fairly charging somethings coke cheapest ounce deal omakase wd pitcher buffet costing approx priced apps limited liquor soda appitizers person pay mintues plus spending expensive 7pm mimosa automatically license given ridiculously pricing purchase coupon fortune carafe pricey merlot hr degree price course champagne steep entre ordering half roughly relatively snack spend'\n",
    "\n",
    "location = 'pizzeria eatery brooklyn astoria queen north height murray hill resident williamsburg america south borough deli chelsea st manhattan growing staten houston ues joe local washington tribeca japan china chain avenue fort bronx state resturants slope nj mexico ave outpost ridge palace located greene raised smith travel john country 9th soho thailand harlem institution columbia branch bay hoboken texas eastside tradition island grew park jackson joint angeles los chinatown continues coney 7th bklyn treasure market frequented born chicago bakery jewel san columbus native yama venture midtown paris mall haunt grown downtown yakiniku lived decade 5th cross westside standby tokyo neighborhood traveledasked requested refused ignored dropped ran u busboy threw saw asking finished watched stood rudely began allowed proceeded politely pointed removed practically pushed table complained told realized leaving placed approached apologized explained repeatedly brought apology forgotten request checked appeared standing showed apparently spoke hadn bothered forgot cleared apologize overheard immediately fork yelled needed dirty noticed literally yelling returned eventually grabbed onto insisted kicked telling disappeared accidentally offered remembered promised sent unhappy lap informed walked reserved move napkin front staring flag ask kindly barely already chatting basically passed talked put bag knocked hung coat broken clear turn wished annoyed later process'\n",
    "anecdotes = 'celebrate anniversary yesterday fiance celebrated tonight girlfriend july celebration dined sister 30th june wife thanksgiving thursday march wedding holiday daughter fiancee bday recently tuesday december parent graduation boyfriend frankie colleague celebrating today monday saturday visited nite went son husband blast wednesday stopped birthday cousin sunday 25th gf friday johnnie coworkers christmas weekend august january candela engagement easter meeting valentine mother hosted october bridal outing rainy proposed 40th law visiting fri weekday february ma met past april rehearsal gathering bf eve planned essex afternoon co dad worker thurs father invited whim november weeknight agave shower friend mine client married prior wed'\n",
    "\n",
    "ambience = 'couch lighting comfy spacious lit funky fireplace patio dark furniture backyard candlelit bright dimly booth interior airy intimate cozy inside waterfall basement bustling weather outdoor sidewalk inviting sexy setting quiet bench candlelight mellow air sleek space layout design wooden exposed comfortable peaceful lively downstairs dance cushion noisy tight window banquette indoors chair chandelier scene decoration upstairs energy homey piano surrounded intimacy ceiling retro garden environment calm deck vibe cavernous cramped terrace surroundings stylish relaxing roomy plant chic outdoors mirror decorated arrangement brightly subdued pond colorful quaint plush tree narrow player rear privacy wood floor festive chill gorgeous flower soothing glow'\n",
    "adjectives = 'unless cause please hate dont youre gonna want go impress avoid trust guess whether whatever call cuz decide figure break willing anymore suggest regret im bother favor afraid wouldn wont either account normally plan eat kick worry cash hesitate mind em hurry wanna hurt need hey stop happen mean likely doesn expense know thinking let bring wallet drunk re forget thats budget lose shouldn won trying satisfy catch anyone pas whenever someone act pack cant ll urge judge stuff spend think realize accept advise allow somewhere bank consider afford returning stay deciding hope work def hungry help rush understand relax'\n",
    "\n",
    "\n",
    "mise = 'australian jug suspiciously video disco collection soju mix gamut rap cola whiskey song welsh booze burgundy sherry newspaper poster ale askew vintage coloring switched singha reggae merengue techno niece ceramic material roommate belgium splash toy coca drum austrian riesling irish freaking merlot memorabilia dairy smoothie morrocan crayon latte dot coleslaw portuguese laundry mixture unfiltered russian guitar print powered readily chianti dose blaring rb influenced polish seitan juke syrah mi classical tot sensibility vieja guinness jazzy overhead german muddled rioja coors frosty liberal doll sapporo omelet can flamenco corona blended cabernet playing trance malted gin jelly flat predominantly stock sale milkshake'\n",
    "\n",
    "aspect5 = 'woo lae disregard sascha esca exceed sens encourage disturbing claude successful respected acclaimed daniel oak harbor molto snobbery null surreal loyalty spa voyage incident riding firebird concern mediocrity compromise commendable umberto jean regard thor spared george danny sincerity shun overated conclude unlikely plaines craft tanti praised boulud bayard isolated crown surpassed caution distant osteria reccommended confident priceless revisit geared bagatto recomment reward benefit league disgust buon picholine clown career receives achieve experimental proved nirvana excellence wallse ruining aesthetic false marie painful subject subtlety strict shall bart novecento ii maroon upsetting tutto dazzle brief newest expense sophistication statement versa savoy authenticity'\n",
    "aspect2 = 'unfortunately okay terrible mediocre hype frankly worse horrible par honestly awful sub average suck poor sucked expected bad disappointing wasnt experienced opinion overpriced disappointment however gotten isn lousy term ok comment certainly agree horrendous expecting major sadly except tasteless write considering negative bland shame previous acceptable beyond sad damn blah overrated wise expensive reputation deserve edible compared comparable completely inconsistent reviewer positive overall necessarily slightly wasn quality believe compare treatment shocked terribly downright rave nothing hyped desired hardly crappy oily alright service complain rating atrocious compelled improved far say thats possibly critic subpar worst lacking perhaps none offensive tasted burnt'\n"
   ]
  },
  {
   "cell_type": "code",
   "execution_count": null,
   "metadata": {},
   "outputs": [],
   "source": [
    "service = 'asked requested refused ignored dropped ran u busboy threw saw asking finished watched stood rudely began allowed proceeded politely pointed removed practically pushed table complained told realized leaving placed approached apologized explained repeatedly brought apology forgotten request checked appeared standing showed apparently spoke hadn bothered forgot cleared apologize overheard immediately fork yelled needed dirty noticed literally yelling returned eventually grabbed onto insisted kicked telling disappeared accidentally offered remembered promised sent unhappy lap informed walked reserved move napkin front staring flag ask kindly barely already chatting basically passed talked put bag knocked hung coat broken clear turn wished annoyed later process'\n",
    "staff = 'waitstaff server staff manner host bartender polite patient waitress hostess courteous accommodating knowledgeable maitre sommelier waiter employee efficient owner professional smile accomodating service helpful management cordial informative caring knowledgable gracious responsive overbearing manager arrogant smiling condescending question solicitous prompt pushy personable unobtrusive female apologetic answered competent sincere face waitors hospitable answer witty waitor timely unfriendly incredibly greeted intrusive knowlegable personality exceptionally greeting svc personnel eager attitude overworked job unhelpful attentive inattentive enthusiastic speedy rude forgetful timing brusque downright sevice curteous snobby bouncer unattentive extremely unhurried explaining generally cashier gentleman humor harried hostile engaging impatient incompetent unprofessional captain indifferent behavior funny'"
   ]
  },
  {
   "cell_type": "code",
   "execution_count": null,
   "metadata": {},
   "outputs": [],
   "source": []
  },
  {
   "cell_type": "code",
   "execution_count": 5,
   "metadata": {},
   "outputs": [],
   "source": [
    "train_sentences = []\n",
    "with open('../preprocessed_data/restaurant/train.txt', 'r') as f:\n",
    "    for line in f:\n",
    "        train_sentences.append(line.strip())"
   ]
  },
  {
   "cell_type": "code",
   "execution_count": 7,
   "metadata": {},
   "outputs": [
    {
     "name": "stdout",
     "output_type": "stream",
     "text": [
      "279859\n",
      "like jeollado like roll sometimes price variety menu\n"
     ]
    }
   ],
   "source": [
    "print(len(train_sentences))\n",
    "print(train_sentences[0])"
   ]
  },
  {
   "cell_type": "code",
   "execution_count": 19,
   "metadata": {},
   "outputs": [],
   "source": [
    "t_sen = list(open('../preprocessed_data/restaurant/train.txt', 'r').readlines())"
   ]
  },
  {
   "cell_type": "code",
   "execution_count": 20,
   "metadata": {},
   "outputs": [
    {
     "data": {
      "text/plain": [
       "279859"
      ]
     },
     "execution_count": 20,
     "metadata": {},
     "output_type": "execute_result"
    }
   ],
   "source": [
    "len(t_sen)"
   ]
  },
  {
   "cell_type": "code",
   "execution_count": 21,
   "metadata": {},
   "outputs": [
    {
     "data": {
      "text/plain": [
       "'like jeollado like roll sometimes price variety menu\\n'"
      ]
     },
     "execution_count": 21,
     "metadata": {},
     "output_type": "execute_result"
    }
   ],
   "source": [
    "t_sen[0]"
   ]
  },
  {
   "cell_type": "code",
   "execution_count": 22,
   "metadata": {},
   "outputs": [],
   "source": [
    "t_sen = [s.strip() for s in t_sen]"
   ]
  },
  {
   "cell_type": "code",
   "execution_count": 23,
   "metadata": {},
   "outputs": [
    {
     "data": {
      "text/plain": [
       "'like jeollado like roll sometimes price variety menu'"
      ]
     },
     "execution_count": 23,
     "metadata": {},
     "output_type": "execute_result"
    }
   ],
   "source": [
    "t_sen[0]"
   ]
  },
  {
   "cell_type": "code",
   "execution_count": 24,
   "metadata": {},
   "outputs": [],
   "source": [
    "t_sen10 = t_sen[:10]"
   ]
  },
  {
   "cell_type": "code",
   "execution_count": 30,
   "metadata": {},
   "outputs": [
    {
     "data": {
      "text/plain": [
       "['like', 'jeollado', 'like', 'roll', 'sometimes', 'price', 'variety', 'menu']"
      ]
     },
     "execution_count": 30,
     "metadata": {},
     "output_type": "execute_result"
    }
   ],
   "source": [
    "t_sen10[0].split()"
   ]
  },
  {
   "cell_type": "code",
   "execution_count": 31,
   "metadata": {},
   "outputs": [
    {
     "data": {
      "text/plain": [
       "[8, 11, 10, 6, 7, 8, 10, 3, 6, 7]"
      ]
     },
     "execution_count": 31,
     "metadata": {},
     "output_type": "execute_result"
    }
   ],
   "source": [
    "[len(sen.split()) for sen in t_sen10]"
   ]
  },
  {
   "cell_type": "code",
   "execution_count": 33,
   "metadata": {},
   "outputs": [
    {
     "data": {
      "text/plain": [
       "11"
      ]
     },
     "execution_count": 33,
     "metadata": {},
     "output_type": "execute_result"
    }
   ],
   "source": [
    "max([len(sen.split()) for sen in t_sen10])"
   ]
  },
  {
   "cell_type": "code",
   "execution_count": 34,
   "metadata": {},
   "outputs": [
    {
     "data": {
      "text/plain": [
       "156"
      ]
     },
     "execution_count": 34,
     "metadata": {},
     "output_type": "execute_result"
    }
   ],
   "source": [
    "max([len(sen.split()) for sen in t_sen])"
   ]
  },
  {
   "cell_type": "code",
   "execution_count": null,
   "metadata": {},
   "outputs": [],
   "source": [
    "cluster_map = {0: 'Food', 1: 'Miscellaneous', 2: 'Miscellaneous', 3: 'Food',\n",
    "           4: 'Miscellaneous', 5: 'Food', 6:'Price',  7: 'Miscellaneous', 8: 'Staff',\n",
    "           9: 'Food', 10: 'Food', 11: 'Anecdotes',\n",
    "           12: 'Ambience', 13: 'Staff'}"
   ]
  }
 ],
 "metadata": {
  "kernelspec": {
   "display_name": "Python [conda env:py36]",
   "language": "python",
   "name": "conda-env-py36-py"
  },
  "language_info": {
   "codemirror_mode": {
    "name": "ipython",
    "version": 3
   },
   "file_extension": ".py",
   "mimetype": "text/x-python",
   "name": "python",
   "nbconvert_exporter": "python",
   "pygments_lexer": "ipython3",
   "version": "3.6.4"
  }
 },
 "nbformat": 4,
 "nbformat_minor": 2
}
