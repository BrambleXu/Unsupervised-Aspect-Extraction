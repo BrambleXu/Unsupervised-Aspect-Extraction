{
 "cells": [
  {
   "cell_type": "markdown",
   "metadata": {},
   "source": [
    "# Background\n",
    "\n",
    "\n",
    "This notebook is to make a baseline for slot1, aspect category detection. We use glove to generate sentence vector. \n",
    "\n",
    "Because we want to augment the embedding wegiht of target word to evaluate whether or not the attention is useful. "
   ]
  },
  {
   "cell_type": "code",
   "execution_count": 1,
   "metadata": {},
   "outputs": [
    {
     "name": "stderr",
     "output_type": "stream",
     "text": [
      "Using TensorFlow backend.\n"
     ]
    }
   ],
   "source": [
    "import pandas as pd\n",
    "import numpy as np\n",
    "from sklearn.model_selection import train_test_split\n",
    "from pathlib import Path\n",
    "import anago\n",
    "from anago.utils import load_data_and_labels, load_glove"
   ]
  },
  {
   "cell_type": "code",
   "execution_count": 2,
   "metadata": {},
   "outputs": [
    {
     "name": "stdout",
     "output_type": "stream",
     "text": [
      "\u001b[1m\u001b[36mraw-semeval-2016\u001b[m\u001b[m/ restaurant2.zip   \u001b[1m\u001b[36msemeval-2016\u001b[m\u001b[m/\r\n",
      "\u001b[1m\u001b[36mrestaurant\u001b[m\u001b[m/       \u001b[1m\u001b[36mrestaurant_small\u001b[m\u001b[m/\r\n"
     ]
    }
   ],
   "source": [
    "ls ../datasets/"
   ]
  },
  {
   "cell_type": "code",
   "execution_count": 3,
   "metadata": {},
   "outputs": [],
   "source": [
    "train_path = Path.cwd().parent.joinpath('datasets/semeval-2016/train.csv')\n",
    "test_path = Path.cwd().parent.joinpath('datasets/semeval-2016/test.csv')"
   ]
  },
  {
   "cell_type": "code",
   "execution_count": 4,
   "metadata": {},
   "outputs": [],
   "source": [
    "# Read data\n",
    "data_train = pd.read_csv(train_path)\n",
    "data_test = pd.read_csv(test_path)"
   ]
  },
  {
   "cell_type": "code",
   "execution_count": 5,
   "metadata": {},
   "outputs": [],
   "source": [
    "def df2data(df):\n",
    "    \"\"\"Read data and labels from dataframe\n",
    "    Input:\n",
    "        df: three columns, ['Sentence #', 'Tag', 'Word']\n",
    "    Output:\n",
    "        data: datasize * ['EU', 'rejects', 'German', 'call', 'to', 'boycott', 'British', 'lamb', '.']\n",
    "        label: datasize * ['B-ORG', 'O', 'B-MISC', 'O', 'O', 'O', 'B-MISC', 'O', 'O']\n",
    "    \"\"\"\n",
    "    agg_func = lambda s: [(w, t) for w, t in zip(s[\"Word\"].values.tolist(),\n",
    "                                                 s[\"Tag\"].values.tolist())]\n",
    "    grouped = df.groupby(\"Sentence #\").apply(agg_func)\n",
    "    data = [[w[0] for w in s] for s in grouped]\n",
    "    label = [[w[1] for w in s] for s in grouped]  \n",
    "    \n",
    "    return data, label"
   ]
  },
  {
   "cell_type": "code",
   "execution_count": 15,
   "metadata": {},
   "outputs": [
    {
     "name": "stdout",
     "output_type": "stream",
     "text": [
      "test_att_sentence.npy  test_target.npy        train_label_df.csv\r\n",
      "test_att_weights       train_att_sentence.npy train_target.npy\r\n",
      "test_label_df.csv      train_att_weights\r\n"
     ]
    }
   ],
   "source": [
    "!ls ../datasets/semeval-2016/slot1/train_target.npy"
   ]
  },
  {
   "cell_type": "code",
   "execution_count": 21,
   "metadata": {},
   "outputs": [],
   "source": [
    "# load target words from npy\n",
    "train_target_path = '../datasets/semeval-2016/slot1/train_target.npy'\n",
    "test_target_path = '../datasets/semeval-2016/slot1/test_target.npy'\n",
    "\n",
    "train_target = list(np.load(train_target_path))\n",
    "test_target = list(np.load(test_target_path))"
   ]
  },
  {
   "cell_type": "code",
   "execution_count": 25,
   "metadata": {},
   "outputs": [
    {
     "data": {
      "text/plain": [
       "[['place'],\n",
       " ['staff'],\n",
       " ['NULL'],\n",
       " ['food', 'portions'],\n",
       " ['NULL'],\n",
       " ['place'],\n",
       " ['food'],\n",
       " ['Saul'],\n",
       " ['foie gras terrine with figs', 'duck confit'],\n",
       " ['wine list'],\n",
       " ['NULL'],\n",
       " ['restaurant'],\n",
       " ['cart attendant'],\n",
       " ['NULL'],\n",
       " ['Food'],\n",
       " ['Chow fun', 'pork shu mai', 'NULL'],\n",
       " ['place'],\n",
       " ['Fish'],\n",
       " ['Service', 'oysters', 'NULL'],\n",
       " ['NULL'],\n",
       " ['Restaurant Saul'],\n",
       " ['NULL', 'service', 'decor'],\n",
       " ['duck breast special'],\n",
       " ['NULL'],\n",
       " [],\n",
       " ['NULL'],\n",
       " ['food', 'Thai fusion stuff', 'NULL'],\n",
       " ['Grilled Chicken special with Edamame Puree'],\n",
       " ['Edamame pureed'],\n",
       " []]"
      ]
     },
     "execution_count": 25,
     "metadata": {},
     "output_type": "execute_result"
    }
   ],
   "source": [
    "train_target[:30]"
   ]
  },
  {
   "cell_type": "code",
   "execution_count": 26,
   "metadata": {},
   "outputs": [],
   "source": [
    "x_train_words, _ = df2data(data_train)\n",
    "x_test_words, _ = df2data(data_test)"
   ]
  },
  {
   "cell_type": "markdown",
   "metadata": {},
   "source": [
    "### embedding"
   ]
  },
  {
   "cell_type": "code",
   "execution_count": 8,
   "metadata": {},
   "outputs": [],
   "source": [
    "EMBEDDING_PATH = '../embedding_weights/glove.840B.300d.txt'"
   ]
  },
  {
   "cell_type": "code",
   "execution_count": 9,
   "metadata": {},
   "outputs": [],
   "source": [
    "embeddings = load_glove(EMBEDDING_PATH)"
   ]
  },
  {
   "cell_type": "markdown",
   "metadata": {},
   "source": [
    "below are some test code"
   ]
  },
  {
   "cell_type": "code",
   "execution_count": 42,
   "metadata": {},
   "outputs": [
    {
     "data": {
      "text/plain": [
       "[['place'],\n",
       " ['staff'],\n",
       " ['NULL'],\n",
       " ['food', 'portions'],\n",
       " ['NULL'],\n",
       " ['place'],\n",
       " ['food'],\n",
       " ['Saul'],\n",
       " ['foie gras terrine with figs', 'duck confit'],\n",
       " ['wine list'],\n",
       " ['NULL'],\n",
       " ['restaurant'],\n",
       " ['cart attendant'],\n",
       " ['NULL'],\n",
       " ['Food'],\n",
       " ['Chow fun', 'pork shu mai', 'NULL'],\n",
       " ['place'],\n",
       " ['Fish'],\n",
       " ['Service', 'oysters', 'NULL'],\n",
       " ['NULL'],\n",
       " ['Restaurant Saul'],\n",
       " ['NULL', 'service', 'decor'],\n",
       " ['duck breast special'],\n",
       " ['NULL'],\n",
       " [],\n",
       " ['NULL'],\n",
       " ['food', 'Thai fusion stuff', 'NULL'],\n",
       " ['Grilled Chicken special with Edamame Puree'],\n",
       " ['Edamame pureed'],\n",
       " []]"
      ]
     },
     "execution_count": 42,
     "metadata": {},
     "output_type": "execute_result"
    }
   ],
   "source": [
    "train_target[:30]"
   ]
  },
  {
   "cell_type": "code",
   "execution_count": 79,
   "metadata": {},
   "outputs": [],
   "source": [
    "targets_string = [' '.join(x) for x in targets]"
   ]
  },
  {
   "cell_type": "code",
   "execution_count": 80,
   "metadata": {},
   "outputs": [
    {
     "data": {
      "text/plain": [
       "['NULL',\n",
       " 'food Thai fusion stuff NULL',\n",
       " 'Grilled Chicken special with Edamame Puree',\n",
       " 'Edamame pureed',\n",
       " '']"
      ]
     },
     "execution_count": 80,
     "metadata": {},
     "output_type": "execute_result"
    }
   ],
   "source": [
    "targets_string"
   ]
  },
  {
   "cell_type": "code",
   "execution_count": 84,
   "metadata": {},
   "outputs": [
    {
     "data": {
      "text/plain": [
       "[4, 27, 42, 14, 0]"
      ]
     },
     "execution_count": 84,
     "metadata": {},
     "output_type": "execute_result"
    }
   ],
   "source": [
    "[len(x) for x in targets_string]"
   ]
  },
  {
   "cell_type": "code",
   "execution_count": 83,
   "metadata": {},
   "outputs": [
    {
     "data": {
      "text/plain": [
       "True"
      ]
     },
     "execution_count": 83,
     "metadata": {},
     "output_type": "execute_result"
    }
   ],
   "source": [
    "'fusion' in targets_string[1]"
   ]
  },
  {
   "cell_type": "code",
   "execution_count": 66,
   "metadata": {},
   "outputs": [
    {
     "data": {
      "text/plain": [
       "[['NULL'],\n",
       " ['food', 'Thai fusion stuff', 'NULL'],\n",
       " ['Grilled Chicken special with Edamame Puree'],\n",
       " ['Edamame pureed'],\n",
       " []]"
      ]
     },
     "execution_count": 66,
     "metadata": {},
     "output_type": "execute_result"
    }
   ],
   "source": [
    "targets = train_target[25:30]\n",
    "targets"
   ]
  },
  {
   "cell_type": "code",
   "execution_count": 68,
   "metadata": {},
   "outputs": [],
   "source": [
    "test = ['fusion', 'stuff', 'xxxx']\n",
    "for word in test:\n",
    "    if word in targets[1]:\n",
    "        print(1)"
   ]
  },
  {
   "cell_type": "code",
   "execution_count": 86,
   "metadata": {},
   "outputs": [
    {
     "name": "stdout",
     "output_type": "stream",
     "text": [
      "NULL\n",
      "1\n",
      "food Thai fusion stuff NULL\n",
      "Grilled Chicken special with Edamame Puree\n",
      "Edamame pureed\n",
      "\n",
      "1\n"
     ]
    }
   ],
   "source": [
    "for sent_target in targets_string:\n",
    "    print(sent_target)\n",
    "    if len(sent_target) == 0 or (len(sent_target)==4 and sent_target=='NULL'): # No target or target is NULL\n",
    "        print(1)\n",
    "    else:\n",
    "        pass"
   ]
  },
  {
   "cell_type": "code",
   "execution_count": 90,
   "metadata": {},
   "outputs": [
    {
     "name": "stdout",
     "output_type": "stream",
     "text": [
      "['and', 'i', 'hate', 'to', 'say', 'this', 'but', 'i', 'doubt', \"i'll\", 'ever', 'go', 'back', '.']\n",
      "NULL\n",
      "\n",
      "['the', 'food', 'is', 'very', 'average', '.', '.', '.', 'the', 'thai', 'fusion', 'stuff', 'is', 'a', 'bit', 'too', 'sweet', ',', 'every', 'thing', 'they', 'serve', 'is', 'too', 'sweet', 'here', '.']\n",
      "food Thai fusion stuff NULL\n",
      "\n",
      "['the', 'only', 'thing', 'i', 'moderately', 'enjoyed', 'was', 'their', 'grilled', 'chicken', 'special', 'with', 'edamame', 'puree', '.']\n",
      "Grilled Chicken special with Edamame Puree\n",
      "\n",
      "['i', 'had', 'never', 'had', 'edamame', 'pureed', 'before', 'but', 'i', 'thought', 'it', 'was', 'innovative', 'and', 'tasty', '(', \"could've\", 'used', 'a', 'bit', 'more', 'salt', ')', '.']\n",
      "Edamame pureed\n",
      "\n",
      "['anyways', ',', 'if', \"you're\", 'in', 'the', 'neighborhood', 'to', 'eat', 'good', 'food', ',', 'i', \"wouldn't\", 'waste', 'my', 'time', 'trying', 'to', 'find', 'something', ',', 'rather', 'go', 'across', 'the', 'street', 'to', 'tamari', '.']\n",
      "\n",
      "\n"
     ]
    }
   ],
   "source": [
    "for (sent, sent_target) in zip(x_train_words[25:30], targets_string): # each sentence \n",
    "    print(sent)\n",
    "    print(sent_target)\n",
    "    print()"
   ]
  },
  {
   "cell_type": "markdown",
   "metadata": {},
   "source": [
    "Sum all to `word2vector_wegihted` function, augment the weight if the word is target word"
   ]
  },
  {
   "cell_type": "code",
   "execution_count": 111,
   "metadata": {},
   "outputs": [],
   "source": [
    "def word2vector_wegihted(x_words, targets, times):\n",
    "    sentence_vectors = []\n",
    "    targets_string = [' '.join(x) for x in targets]\n",
    "    for (sent, sent_target) in zip(x_words, targets_string): # each sentence \n",
    "        one_sentence = [0]*300\n",
    "        # If sentence has no target or target is NULL, add word embedding normally \n",
    "        if len(sent_target) == 0 or (len(sent_target)==4 and sent_target=='NULL'): # No target or target is NULL\n",
    "            for word in sent:\n",
    "                if not embeddings.get(word) is None:\n",
    "                    one_sentence += embeddings[word]\n",
    "            sentence_vectors.append(one_sentence)\n",
    "        # If sentence has multiple target words, augment the target weights\n",
    "        else:\n",
    "            for word in sent:\n",
    "                if not embeddings.get(word) is None and word in sent_target: # if word exist and is the target word\n",
    "                    one_sentence += times * embeddings[word] # augment \n",
    "                elif not embeddings.get(word) is None: # if word exist and is not the target word\n",
    "                    one_sentence += embeddings[word]\n",
    "                else: # if the word not exist \n",
    "                    pass \n",
    "            sentence_vectors.append(one_sentence) \n",
    "    \n",
    "    return np.array(sentence_vectors)\n",
    "\n",
    "\n",
    "def word2vector(x_words):  # convert words to sentence embedding \n",
    "    sentence_vectors = []\n",
    "    for sent in x_words:\n",
    "        one_sentence = [0]*300\n",
    "        for word in sent:\n",
    "            if not embeddings.get(word) is None:\n",
    "                one_sentence += embeddings[word]\n",
    "        sentence_vectors.append(one_sentence)\n",
    "    return np.array(sentence_vectors)"
   ]
  },
  {
   "cell_type": "code",
   "execution_count": 31,
   "metadata": {},
   "outputs": [],
   "source": [
    "x_train = word2vector(x_train_words)\n",
    "x_test = word2vector(x_test_words)"
   ]
  },
  {
   "cell_type": "code",
   "execution_count": 34,
   "metadata": {},
   "outputs": [
    {
     "name": "stdout",
     "output_type": "stream",
     "text": [
      "2000\n",
      "676\n",
      "[-1.2522427e+00  2.9516120e+00 -3.3916620e+00  5.9891500e-01\n",
      "  2.7914800e-02 -4.4706000e-02 -8.0774300e-02 -2.5486480e+00\n",
      " -3.5198700e-02  3.9527000e+01]\n"
     ]
    }
   ],
   "source": [
    "print(len(x_train))\n",
    "print(len(x_test))\n",
    "# print(type(x_train))\n",
    "print(x_train[0][:10])"
   ]
  },
  {
   "cell_type": "code",
   "execution_count": 112,
   "metadata": {},
   "outputs": [],
   "source": [
    "x_train_15 = word2vector_wegihted(x_train_words, train_target, 1.5)\n",
    "x_test_15 = word2vector_wegihted(x_test_words, test_target, 1.5)"
   ]
  },
  {
   "cell_type": "code",
   "execution_count": 113,
   "metadata": {},
   "outputs": [],
   "source": [
    "x_train_20 = word2vector_wegihted(x_train_words, train_target, 2)\n",
    "x_test_20 = word2vector_wegihted(x_test_words, test_target, 2)"
   ]
  },
  {
   "cell_type": "code",
   "execution_count": 175,
   "metadata": {},
   "outputs": [],
   "source": [
    "x_train_30 = word2vector_wegihted(x_train_words, train_target, 2)\n",
    "x_test_30 = word2vector_wegihted(x_test_words, test_target, 2)"
   ]
  },
  {
   "cell_type": "code",
   "execution_count": 116,
   "metadata": {},
   "outputs": [
    {
     "name": "stdout",
     "output_type": "stream",
     "text": [
      "(2000, 300)\n",
      "(676, 300)\n",
      "(2000, 300)\n",
      "(676, 300)\n"
     ]
    }
   ],
   "source": [
    "print(x_train_15.shape)\n",
    "print(x_test_15.shape)\n",
    "print(x_train_20.shape)\n",
    "print(x_test_20.shape)"
   ]
  },
  {
   "cell_type": "markdown",
   "metadata": {},
   "source": [
    "1.5 means multiply the weights of word if the word is a target word. We use this to as the attention compeletely extracted"
   ]
  },
  {
   "cell_type": "markdown",
   "metadata": {},
   "source": [
    "### label \n",
    "\n",
    "this is a multicalss classification"
   ]
  },
  {
   "cell_type": "code",
   "execution_count": 103,
   "metadata": {},
   "outputs": [],
   "source": [
    "train_path = Path.cwd().parent.joinpath('datasets/semeval-2016/slot1/train_label_df.csv')\n",
    "test_path = Path.cwd().parent.joinpath('datasets/semeval-2016/slot1/test_label_df.csv')"
   ]
  },
  {
   "cell_type": "code",
   "execution_count": 104,
   "metadata": {},
   "outputs": [],
   "source": [
    "y_train_df = pd.read_csv(train_path)\n",
    "y_test_df = pd.read_csv(test_path)"
   ]
  },
  {
   "cell_type": "code",
   "execution_count": 105,
   "metadata": {},
   "outputs": [
    {
     "data": {
      "text/plain": [
       "array([[0, 0, 0, ..., 0, 0, 0],\n",
       "       [0, 0, 0, ..., 0, 0, 1],\n",
       "       [0, 0, 0, ..., 0, 0, 1],\n",
       "       ...,\n",
       "       [0, 0, 0, ..., 0, 0, 1],\n",
       "       [0, 0, 0, ..., 0, 0, 1],\n",
       "       [0, 0, 0, ..., 0, 0, 1]])"
      ]
     },
     "execution_count": 105,
     "metadata": {},
     "output_type": "execute_result"
    }
   ],
   "source": [
    "y_train_df.values"
   ]
  },
  {
   "cell_type": "code",
   "execution_count": 106,
   "metadata": {},
   "outputs": [],
   "source": [
    "y_train = y_train_df.values\n",
    "y_test = y_test_df.values"
   ]
  },
  {
   "cell_type": "markdown",
   "metadata": {},
   "source": [
    "# model construct"
   ]
  },
  {
   "cell_type": "code",
   "execution_count": 107,
   "metadata": {},
   "outputs": [],
   "source": [
    "from sklearn.multiclass import OneVsRestClassifier\n",
    "from sklearn.linear_model import LogisticRegression\n",
    "\n",
    "ovr = OneVsRestClassifier(LogisticRegression())"
   ]
  },
  {
   "cell_type": "code",
   "execution_count": 176,
   "metadata": {},
   "outputs": [
    {
     "name": "stdout",
     "output_type": "stream",
     "text": [
      "(2000, 300)\n",
      "(2000, 12)\n",
      "[learning_curve] Training set sizes: [ 160  520  880 1240 1600]\n",
      "[CV]  ................................................................\n",
      "[CV] .................................... , score=0.205, total=   0.3s\n",
      "[CV]  ................................................................\n"
     ]
    },
    {
     "name": "stderr",
     "output_type": "stream",
     "text": [
      "[Parallel(n_jobs=1)]: Done   1 out of   1 | elapsed:    0.3s remaining:    0.0s\n"
     ]
    },
    {
     "name": "stdout",
     "output_type": "stream",
     "text": [
      "[CV] ...................................... , score=0.2, total=   1.4s\n",
      "[CV]  ................................................................\n"
     ]
    },
    {
     "name": "stderr",
     "output_type": "stream",
     "text": [
      "[Parallel(n_jobs=1)]: Done   2 out of   2 | elapsed:    1.7s remaining:    0.0s\n"
     ]
    },
    {
     "name": "stdout",
     "output_type": "stream",
     "text": [
      "[CV] ................................... , score=0.1925, total=   3.0s\n",
      "[CV]  ................................................................\n"
     ]
    },
    {
     "name": "stderr",
     "output_type": "stream",
     "text": [
      "[Parallel(n_jobs=1)]: Done   3 out of   3 | elapsed:    4.7s remaining:    0.0s\n"
     ]
    },
    {
     "name": "stdout",
     "output_type": "stream",
     "text": [
      "[CV] .................................... , score=0.185, total=   4.5s\n",
      "[CV]  ................................................................\n",
      "[CV] ................................... , score=0.1525, total=   6.1s\n",
      "[CV]  ................................................................\n",
      "[CV] ..................................... , score=0.11, total=   0.2s\n",
      "[CV]  ................................................................\n",
      "[CV] ................................... , score=0.1775, total=   1.3s\n",
      "[CV]  ................................................................\n",
      "[CV] .................................... , score=0.185, total=   2.9s\n",
      "[CV]  ................................................................\n",
      "[CV] ................................... , score=0.1975, total=   4.4s\n",
      "[CV]  ................................................................\n",
      "[CV] ..................................... , score=0.18, total=   6.0s\n",
      "[CV]  ................................................................\n"
     ]
    },
    {
     "name": "stderr",
     "output_type": "stream",
     "text": [
      "/anaconda3/envs/py36/lib/python3.6/site-packages/sklearn/multiclass.py:76: UserWarning: Label not 1 is present in all training examples.\n",
      "  str(classes[c]))\n"
     ]
    },
    {
     "name": "stdout",
     "output_type": "stream",
     "text": [
      "[CV] .................................... , score=0.135, total=   0.2s\n",
      "[CV]  ................................................................\n",
      "[CV] ..................................... , score=0.18, total=   1.3s\n",
      "[CV]  ................................................................\n",
      "[CV] ..................................... , score=0.19, total=   2.8s\n",
      "[CV]  ................................................................\n",
      "[CV] ..................................... , score=0.19, total=   4.6s\n",
      "[CV]  ................................................................\n",
      "[CV] ................................... , score=0.1975, total=   6.1s\n",
      "[CV]  ................................................................\n",
      "[CV] ................................... , score=0.1575, total=   0.2s\n",
      "[CV]  ................................................................\n",
      "[CV] ................................... , score=0.2075, total=   1.3s\n",
      "[CV]  ................................................................\n",
      "[CV] ................................... , score=0.2025, total=   2.7s\n",
      "[CV]  ................................................................\n",
      "[CV] ................................... , score=0.1875, total=   4.3s\n",
      "[CV]  ................................................................\n",
      "[CV] ................................... , score=0.1875, total=   6.3s\n",
      "[CV]  ................................................................\n"
     ]
    },
    {
     "name": "stderr",
     "output_type": "stream",
     "text": [
      "/anaconda3/envs/py36/lib/python3.6/site-packages/sklearn/multiclass.py:76: UserWarning: Label not 7 is present in all training examples.\n",
      "  str(classes[c]))\n"
     ]
    },
    {
     "name": "stdout",
     "output_type": "stream",
     "text": [
      "[CV] ................................... , score=0.1525, total=   0.2s\n",
      "[CV]  ................................................................\n",
      "[CV] ..................................... , score=0.21, total=   1.3s\n",
      "[CV]  ................................................................\n",
      "[CV] .................................... , score=0.185, total=   2.6s\n",
      "[CV]  ................................................................\n",
      "[CV] ..................................... , score=0.18, total=   4.6s\n",
      "[CV]  ................................................................\n",
      "[CV] .................................... , score=0.175, total=   6.0s\n"
     ]
    },
    {
     "name": "stderr",
     "output_type": "stream",
     "text": [
      "[Parallel(n_jobs=1)]: Done  25 out of  25 | elapsed:  1.2min finished\n"
     ]
    },
    {
     "data": {
      "image/png": "[encoded data removed]",
      "text/plain": [
       "<matplotlib.figure.Figure at 0x1426cae48>"
      ]
     },
     "metadata": {},
     "output_type": "display_data"
    }
   ],
   "source": [
    "# first to see the cv result \n",
    "from sklearn.model_selection import learning_curve\n",
    "import matplotlib.pyplot as plt\n",
    "from sklearn.model_selection import ShuffleSplit\n",
    "from sklearn.multiclass import OneVsRestClassifier\n",
    "from sklearn.linear_model import LogisticRegression\n",
    "\n",
    "\n",
    "%matplotlib inline\n",
    "\n",
    "# learning curve function\n",
    "# http://scikit-learn.org/stable/auto_examples/model_selection/plot_learning_curve.html\n",
    "\n",
    "def plot_learning_curve(\n",
    "        estimator, title, X, y, ylim=None, cv=None,\n",
    "        n_jobs=1, train_sizes=np.linspace(.1, 1.0, 5), verbose=0):\n",
    "\n",
    "    plt.figure()\n",
    "    plt.title(title)\n",
    "    if ylim is not None:\n",
    "        plt.ylim(*ylim)\n",
    "    plt.xlabel(\"Training examples\")\n",
    "    plt.ylabel(\"Score\")\n",
    "    train_sizes, train_scores, test_scores = learning_curve(\n",
    "        estimator, X, y, cv=cv, n_jobs=n_jobs, train_sizes=train_sizes, verbose=verbose)\n",
    "    train_scores_mean = np.mean(train_scores, axis=1)\n",
    "    train_scores_std = np.std(train_scores, axis=1)\n",
    "    test_scores_mean = np.mean(test_scores, axis=1)\n",
    "    test_scores_std = np.std(test_scores, axis=1)\n",
    "    plt.grid()\n",
    "\n",
    "    plt.fill_between(train_sizes, train_scores_mean - train_scores_std,\n",
    "                     train_scores_mean + train_scores_std, alpha=0.1,\n",
    "                     color=\"r\")\n",
    "    plt.fill_between(train_sizes, test_scores_mean - test_scores_std,\n",
    "                     test_scores_mean + test_scores_std, alpha=0.1, color=\"g\")\n",
    "    plt.plot(train_sizes, train_scores_mean, 'o-', color=\"r\",\n",
    "             label=\"Training score\")\n",
    "    plt.plot(train_sizes, test_scores_mean, 'o-', color=\"g\",\n",
    "             label=\"Cross-validation score\")\n",
    "\n",
    "    plt.legend(loc=\"best\")\n",
    "    return plt\n",
    "\n",
    "\n",
    "cv = ShuffleSplit(n_splits=5, test_size=0.2, random_state=0)\n",
    "ovr = OneVsRestClassifier(LogisticRegression())\n",
    "\n",
    "X = x_train_30\n",
    "train_labels = y_train\n",
    "print(X.shape)\n",
    "print(train_labels.shape)\n",
    "plot_learning_curve(ovr, \"Slot1 baseline learning curve \",\n",
    "                    X, train_labels, ylim=(0.0, 1.01), cv=cv, n_jobs=1, verbose=4)\n",
    "\n",
    "plt.show()"
   ]
  },
  {
   "cell_type": "code",
   "execution_count": 177,
   "metadata": {},
   "outputs": [],
   "source": [
    "from sklearn.utils import shuffle\n",
    "from sklearn.metrics import f1_score\n",
    "\n",
    "def loop_predict(model, x_train, x_test, y_train, y_test, loop=5):\n",
    "    f1 = []\n",
    "    for i in range(loop):\n",
    "        x_train, x_test = shuffle(x_train, x_test)\n",
    "        model.fit(x_train, x_test)\n",
    "        y_pred = model.predict(y_train)\n",
    "        micro_f1 = f1_score(y_test, y_pred, average='micro')\n",
    "        f1.append(micro_f1)\n",
    "    print(\"F1 is {} (+/-{})\".format(np.mean(f1), np.std(f1)))\n",
    "    return model"
   ]
  },
  {
   "cell_type": "code",
   "execution_count": 178,
   "metadata": {},
   "outputs": [],
   "source": [
    "train_x = x_train_30\n",
    "train_labels = y_train\n",
    "test_x = x_test_30\n",
    "test_labels = y_test"
   ]
  },
  {
   "cell_type": "code",
   "execution_count": 179,
   "metadata": {
    "scrolled": true
   },
   "outputs": [
    {
     "name": "stdout",
     "output_type": "stream",
     "text": [
      "F1 is 0.1693019636653355 (+/-0.002027090902149949)\n"
     ]
    }
   ],
   "source": [
    "ovr = OneVsRestClassifier(LogisticRegression())\n",
    "\n",
    "model1 = loop_predict(ovr, train_x, train_labels, test_x, test_labels)"
   ]
  },
  {
   "cell_type": "markdown",
   "metadata": {},
   "source": [
    "- glove with 1.5 times word weighted: 0.5837\n",
    "- glove with 2 times word weighted: 0.5854\n",
    "- glove with 3 times word weighted: 0.169"
   ]
  },
  {
   "cell_type": "markdown",
   "metadata": {},
   "source": [
    "# Test the similarity as the feature (not finished)\n",
    "\n",
    "We caculate the distance between each target word and each word in sentence. Because this will cause each sentence demision have different size, so we padding the all sentence length as a fixed size"
   ]
  },
  {
   "cell_type": "code",
   "execution_count": 126,
   "metadata": {},
   "outputs": [],
   "source": [
    "import spacy"
   ]
  },
  {
   "cell_type": "code",
   "execution_count": 128,
   "metadata": {},
   "outputs": [
    {
     "data": {
      "text/plain": [
       "['judging',\n",
       " 'from',\n",
       " 'previous',\n",
       " 'posts',\n",
       " 'this',\n",
       " 'used',\n",
       " 'to',\n",
       " 'be',\n",
       " 'a',\n",
       " 'good',\n",
       " 'place',\n",
       " ',',\n",
       " 'but',\n",
       " 'not',\n",
       " 'any',\n",
       " 'longer',\n",
       " '.']"
      ]
     },
     "execution_count": 128,
     "metadata": {},
     "output_type": "execute_result"
    }
   ],
   "source": [
    "x_train_words[0]\n",
    "# x_test_words"
   ]
  },
  {
   "cell_type": "code",
   "execution_count": 129,
   "metadata": {},
   "outputs": [
    {
     "data": {
      "text/plain": [
       "['place']"
      ]
     },
     "execution_count": 129,
     "metadata": {},
     "output_type": "execute_result"
    }
   ],
   "source": [
    "train_target[0]"
   ]
  },
  {
   "cell_type": "code",
   "execution_count": null,
   "metadata": {},
   "outputs": [],
   "source": [
    "x_train_words = [' '.join(x) for x in x_train_words]"
   ]
  },
  {
   "cell_type": "code",
   "execution_count": 136,
   "metadata": {},
   "outputs": [
    {
     "data": {
      "text/plain": [
       "['judging from previous posts this used to be a good place , but not any longer .',\n",
       " 'we , there were four of us , arrived at noon - the place was empty - and the staff acted like we were imposing on them and they were very rude .']"
      ]
     },
     "execution_count": 136,
     "metadata": {},
     "output_type": "execute_result"
    }
   ],
   "source": [
    "x_train_words[:2]"
   ]
  },
  {
   "cell_type": "code",
   "execution_count": 131,
   "metadata": {},
   "outputs": [],
   "source": [
    "nlp = spacy.load('en')"
   ]
  },
  {
   "cell_type": "code",
   "execution_count": null,
   "metadata": {},
   "outputs": [],
   "source": [
    "for (sentence, sen_target) in zip(x_train_words, train_target):\n",
    "    tokens = nlp(sentence)\n",
    "    for "
   ]
  },
  {
   "cell_type": "code",
   "execution_count": 138,
   "metadata": {},
   "outputs": [],
   "source": [
    "x_train_tokens = nlp(x_train_words[0])"
   ]
  },
  {
   "cell_type": "markdown",
   "metadata": {},
   "source": [
    "Briefly, token1.similarity(token2) will generate an error if token2 is a single-character word. "
   ]
  },
  {
   "cell_type": "code",
   "execution_count": 167,
   "metadata": {},
   "outputs": [],
   "source": [
    "train_target_string = [' '.join(x) for x in train_target]\n",
    "test_target_string = [' '.join(x) for x in test_target]"
   ]
  },
  {
   "cell_type": "code",
   "execution_count": null,
   "metadata": {},
   "outputs": [],
   "source": [
    "for (sent, sent_target) in zip(x_words, train_target): # each sentence \n",
    "    x_train_string = [' '.join(x) for x in sent]\n",
    "    # If sentence has no target or target is NULL, add word embedding normally \n",
    "    if len(sent_target) == 0 or (len(sent_target)==4 and sent_target=='NULL'): # No target or target is NULL\n",
    "        continue \n",
    "    else:\n",
    "        x_words_tokens = nlp(x_train_string)\n",
    "        for target_word in sent_target:\n",
    "            "
   ]
  },
  {
   "cell_type": "code",
   "execution_count": 169,
   "metadata": {},
   "outputs": [
    {
     "ename": "AttributeError",
     "evalue": "'str' object has no attribute 'similarity'",
     "output_type": "error",
     "traceback": [
      "\u001b[0;31m---------------------------------------------------------------------------\u001b[0m",
      "\u001b[0;31mAttributeError\u001b[0m                            Traceback (most recent call last)",
      "\u001b[0;32m<ipython-input-169-c016b652caf0>\u001b[0m in \u001b[0;36m<module>\u001b[0;34m()\u001b[0m\n\u001b[1;32m      5\u001b[0m                 \u001b[0;32mpass\u001b[0m\u001b[0;34m\u001b[0m\u001b[0m\n\u001b[1;32m      6\u001b[0m             \u001b[0;32melse\u001b[0m\u001b[0;34m:\u001b[0m\u001b[0;34m\u001b[0m\u001b[0m\n\u001b[0;32m----> 7\u001b[0;31m                 \u001b[0mprint\u001b[0m\u001b[0;34m(\u001b[0m\u001b[0;34m'place'\u001b[0m\u001b[0;34m.\u001b[0m\u001b[0msimilarity\u001b[0m\u001b[0;34m(\u001b[0m\u001b[0mtoken2\u001b[0m\u001b[0;34m)\u001b[0m\u001b[0;34m)\u001b[0m\u001b[0;34m\u001b[0m\u001b[0m\n\u001b[0m",
      "\u001b[0;31mAttributeError\u001b[0m: 'str' object has no attribute 'similarity'"
     ]
    }
   ],
   "source": [
    "for token1 in x_train_tokens:\n",
    "    if token1.text == 'place':\n",
    "        for token2 in x_train_tokens:\n",
    "            if len(token2.text) == 1:\n",
    "                pass\n",
    "            else:\n",
    "                print(token1.similarity(token2))"
   ]
  },
  {
   "cell_type": "code",
   "execution_count": null,
   "metadata": {},
   "outputs": [],
   "source": [
    "for token1 in x_train_tokens:\n",
    "    for \n",
    "    if token1.text == 'place':\n",
    "        for token2 in x_train_tokens:\n",
    "            if len(token2.text) == 1:\n",
    "                pass\n",
    "            else:\n",
    "                print(token1.similarity(token2))"
   ]
  },
  {
   "cell_type": "code",
   "execution_count": 153,
   "metadata": {},
   "outputs": [
    {
     "name": "stdout",
     "output_type": "stream",
     "text": [
      "judging\n",
      "from\n",
      "previous\n",
      "posts\n",
      "this\n",
      "used\n",
      "to\n",
      "be\n",
      "a\n",
      "good\n",
      "place\n",
      ",\n",
      "but\n",
      "not\n",
      "any\n",
      "longer\n",
      ".\n"
     ]
    }
   ],
   "source": [
    "for token1 in x_train_tokens:\n",
    "    print(token1.text)"
   ]
  },
  {
   "cell_type": "code",
   "execution_count": null,
   "metadata": {},
   "outputs": [],
   "source": []
  }
 ],
 "metadata": {
  "kernelspec": {
   "display_name": "Python [conda env:py36]",
   "language": "python",
   "name": "conda-env-py36-py"
  },
  "language_info": {
   "codemirror_mode": {
    "name": "ipython",
    "version": 3
   },
   "file_extension": ".py",
   "mimetype": "text/x-python",
   "name": "python",
   "nbconvert_exporter": "python",
   "pygments_lexer": "ipython3",
   "version": "3.6.4"
  }
 },
 "nbformat": 4,
 "nbformat_minor": 2
}
