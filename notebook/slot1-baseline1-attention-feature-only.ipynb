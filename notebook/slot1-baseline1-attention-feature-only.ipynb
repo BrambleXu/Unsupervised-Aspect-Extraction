{
 "cells": [
  {
   "cell_type": "markdown",
   "metadata": {},
   "source": [
    "# Background\n",
    "\n",
    "\n",
    "This notebook is to make a baseline for slot1, aspect category detection. \n",
    "\n",
    "Here we only use attention feature. "
   ]
  },
  {
   "cell_type": "code",
   "execution_count": 1,
   "metadata": {},
   "outputs": [
    {
     "name": "stderr",
     "output_type": "stream",
     "text": [
      "Using TensorFlow backend.\n"
     ]
    }
   ],
   "source": [
    "import pandas as pd\n",
    "import numpy as np\n",
    "from sklearn.model_selection import train_test_split\n",
    "from pathlib import Path\n",
    "import anago\n",
    "from anago.utils import load_data_and_labels, load_glove"
   ]
  },
  {
   "cell_type": "code",
   "execution_count": 2,
   "metadata": {},
   "outputs": [
    {
     "name": "stdout",
     "output_type": "stream",
     "text": [
      "\u001b[1m\u001b[36mraw-semeval-2016\u001b[m\u001b[m/ restaurant2.zip   \u001b[1m\u001b[36msemeval-2016\u001b[m\u001b[m/\r\n",
      "\u001b[1m\u001b[36mrestaurant\u001b[m\u001b[m/       \u001b[1m\u001b[36mrestaurant_small\u001b[m\u001b[m/\r\n"
     ]
    }
   ],
   "source": [
    "ls ../datasets/"
   ]
  },
  {
   "cell_type": "code",
   "execution_count": 3,
   "metadata": {},
   "outputs": [],
   "source": [
    "train_path = Path.cwd().parent.joinpath('datasets/semeval-2016/train.csv')\n",
    "test_path = Path.cwd().parent.joinpath('datasets/semeval-2016/test.csv')"
   ]
  },
  {
   "cell_type": "code",
   "execution_count": 4,
   "metadata": {},
   "outputs": [],
   "source": [
    "# Read data\n",
    "data_train = pd.read_csv(train_path)\n",
    "data_test = pd.read_csv(test_path)"
   ]
  },
  {
   "cell_type": "code",
   "execution_count": 5,
   "metadata": {},
   "outputs": [],
   "source": [
    "def df2data(df):\n",
    "    \"\"\"Read data and labels from dataframe\n",
    "    Input:\n",
    "        df: three columns, ['Sentence #', 'Tag', 'Word']\n",
    "    Output:\n",
    "        data: datasize * ['EU', 'rejects', 'German', 'call', 'to', 'boycott', 'British', 'lamb', '.']\n",
    "        label: datasize * ['B-ORG', 'O', 'B-MISC', 'O', 'O', 'O', 'B-MISC', 'O', 'O']\n",
    "    \"\"\"\n",
    "    agg_func = lambda s: [(w, t) for w, t in zip(s[\"Word\"].values.tolist(),\n",
    "                                                 s[\"Tag\"].values.tolist())]\n",
    "    grouped = df.groupby(\"Sentence #\").apply(agg_func)\n",
    "    data = [[w[0] for w in s] for s in grouped]\n",
    "    label = [[w[1] for w in s] for s in grouped]  \n",
    "    \n",
    "    return data, label"
   ]
  },
  {
   "cell_type": "code",
   "execution_count": 6,
   "metadata": {},
   "outputs": [],
   "source": [
    "x_train_words, _ = df2data(data_train)\n",
    "x_test_words, _ = df2data(data_test)"
   ]
  },
  {
   "cell_type": "markdown",
   "metadata": {},
   "source": [
    "### embedding"
   ]
  },
  {
   "cell_type": "code",
   "execution_count": 8,
   "metadata": {},
   "outputs": [],
   "source": [
    "EMBEDDING_PATH = '../embedding_weights/glove.840B.300d.txt'"
   ]
  },
  {
   "cell_type": "code",
   "execution_count": 9,
   "metadata": {},
   "outputs": [],
   "source": [
    "embeddings = load_glove(EMBEDDING_PATH)"
   ]
  },
  {
   "cell_type": "markdown",
   "metadata": {},
   "source": [
    "No need to padding"
   ]
  },
  {
   "cell_type": "code",
   "execution_count": 12,
   "metadata": {},
   "outputs": [],
   "source": [
    "def word2vector(x_words):\n",
    "\n",
    "    sentence_vectors = []\n",
    "\n",
    "    for sent in x_words:\n",
    "        one_sentence = [0]*300\n",
    "        for word in sent:\n",
    "            if not embeddings.get(word) is None:\n",
    "                one_sentence += embeddings[word]\n",
    "        sentence_vectors.append(one_sentence)\n",
    "    return np.array(sentence_vectors)"
   ]
  },
  {
   "cell_type": "code",
   "execution_count": 13,
   "metadata": {},
   "outputs": [],
   "source": [
    "x_train = word2vector(x_train_words)\n",
    "x_test = word2vector(x_test_words)"
   ]
  },
  {
   "cell_type": "code",
   "execution_count": 14,
   "metadata": {},
   "outputs": [
    {
     "name": "stdout",
     "output_type": "stream",
     "text": [
      "2000\n",
      "676\n",
      "<class 'numpy.ndarray'>\n",
      "<class 'numpy.ndarray'>\n"
     ]
    }
   ],
   "source": [
    "print(len(x_train))\n",
    "print(len(x_test))\n",
    "print(type(x_train))\n",
    "print(type(x_train[0]))"
   ]
  },
  {
   "cell_type": "markdown",
   "metadata": {},
   "source": [
    "add attention feature "
   ]
  },
  {
   "cell_type": "code",
   "execution_count": 15,
   "metadata": {},
   "outputs": [],
   "source": [
    "train_path = Path.cwd().parent.joinpath('datasets/semeval-2016/slot1/train_att_sentence.npy')\n",
    "test_path = Path.cwd().parent.joinpath('datasets/semeval-2016/slot1/test_att_sentence.npy')"
   ]
  },
  {
   "cell_type": "code",
   "execution_count": 16,
   "metadata": {},
   "outputs": [],
   "source": [
    "att_train_feature = np.load(train_path)\n",
    "att_test_feature = np.load(test_path)"
   ]
  },
  {
   "cell_type": "code",
   "execution_count": 17,
   "metadata": {},
   "outputs": [
    {
     "data": {
      "text/plain": [
       "(2000, 200)"
      ]
     },
     "execution_count": 17,
     "metadata": {},
     "output_type": "execute_result"
    }
   ],
   "source": [
    "att_train_feature.shape"
   ]
  },
  {
   "cell_type": "code",
   "execution_count": 18,
   "metadata": {},
   "outputs": [
    {
     "data": {
      "text/plain": [
       "(2000, 300)"
      ]
     },
     "execution_count": 18,
     "metadata": {},
     "output_type": "execute_result"
    }
   ],
   "source": [
    "x_train.shape"
   ]
  },
  {
   "cell_type": "code",
   "execution_count": 20,
   "metadata": {},
   "outputs": [],
   "source": [
    "\n",
    "x_train = att_train_feature\n",
    "x_test = att_test_feature\n",
    "\n",
    "# x_train = np.concatenate((x_train, att_train_feature), axis=1)\n",
    "# x_test = np.concatenate((x_test, att_test_feature), axis=1)\n",
    "# print(x_train.shape)\n",
    "# print(x_test.shape)"
   ]
  },
  {
   "cell_type": "markdown",
   "metadata": {},
   "source": [
    "### label \n",
    "\n",
    "this is a multicalss classification"
   ]
  },
  {
   "cell_type": "code",
   "execution_count": 21,
   "metadata": {},
   "outputs": [],
   "source": [
    "train_path = Path.cwd().parent.joinpath('datasets/semeval-2016/slot1/train_label_df.csv')\n",
    "test_path = Path.cwd().parent.joinpath('datasets/semeval-2016/slot1/test_label_df.csv')"
   ]
  },
  {
   "cell_type": "code",
   "execution_count": 22,
   "metadata": {},
   "outputs": [],
   "source": [
    "y_train_df = pd.read_csv(train_path)\n",
    "y_test_df = pd.read_csv(test_path)"
   ]
  },
  {
   "cell_type": "code",
   "execution_count": 23,
   "metadata": {},
   "outputs": [
    {
     "data": {
      "text/plain": [
       "array([[0, 0, 0, ..., 0, 0, 0],\n",
       "       [0, 0, 0, ..., 0, 0, 1],\n",
       "       [0, 0, 0, ..., 0, 0, 1],\n",
       "       ...,\n",
       "       [0, 0, 0, ..., 0, 0, 1],\n",
       "       [0, 0, 0, ..., 0, 0, 1],\n",
       "       [0, 0, 0, ..., 0, 0, 1]])"
      ]
     },
     "execution_count": 23,
     "metadata": {},
     "output_type": "execute_result"
    }
   ],
   "source": [
    "y_train_df.values"
   ]
  },
  {
   "cell_type": "code",
   "execution_count": 24,
   "metadata": {},
   "outputs": [],
   "source": [
    "y_train = y_train_df.values\n",
    "y_test = y_test_df.values"
   ]
  },
  {
   "cell_type": "markdown",
   "metadata": {},
   "source": [
    "# model construct"
   ]
  },
  {
   "cell_type": "code",
   "execution_count": 25,
   "metadata": {},
   "outputs": [],
   "source": [
    "from sklearn.multiclass import OneVsRestClassifier\n",
    "from sklearn.linear_model import LogisticRegression\n",
    "\n",
    "ovr = OneVsRestClassifier(LogisticRegression())"
   ]
  },
  {
   "cell_type": "code",
   "execution_count": 26,
   "metadata": {},
   "outputs": [
    {
     "name": "stdout",
     "output_type": "stream",
     "text": [
      "(2000, 200)\n",
      "(2000, 12)\n",
      "[learning_curve] Training set sizes: [ 160  520  880 1240 1600]\n",
      "[CV]  ................................................................\n",
      "[CV] ...................................... , score=0.0, total=   0.1s\n",
      "[CV]  ................................................................\n",
      "[CV] ...................................... , score=0.0, total=   0.1s\n",
      "[CV]  ................................................................\n"
     ]
    },
    {
     "name": "stderr",
     "output_type": "stream",
     "text": [
      "[Parallel(n_jobs=1)]: Done   1 out of   1 | elapsed:    0.1s remaining:    0.0s\n",
      "[Parallel(n_jobs=1)]: Done   2 out of   2 | elapsed:    0.2s remaining:    0.0s\n",
      "[Parallel(n_jobs=1)]: Done   3 out of   3 | elapsed:    0.3s remaining:    0.0s\n"
     ]
    },
    {
     "name": "stdout",
     "output_type": "stream",
     "text": [
      "[CV] ................................... , score=0.0125, total=   0.1s\n",
      "[CV]  ................................................................\n",
      "[CV] ..................................... , score=0.01, total=   0.2s\n",
      "[CV]  ................................................................\n",
      "[CV] .................................... , score=0.025, total=   0.2s\n",
      "[CV]  ................................................................\n",
      "[CV] ...................................... , score=0.0, total=   0.0s\n",
      "[CV]  ................................................................\n",
      "[CV] ...................................... , score=0.0, total=   0.1s\n",
      "[CV]  ................................................................\n",
      "[CV] .................................... , score=0.005, total=   0.1s\n",
      "[CV]  ................................................................\n",
      "[CV] ..................................... , score=0.03, total=   0.2s\n",
      "[CV]  ................................................................\n",
      "[CV] ................................... , score=0.0325, total=   0.2s\n",
      "[CV]  ................................................................\n",
      "[CV] ...................................... , score=0.0, total=   0.0s\n",
      "[CV]  ................................................................\n",
      "[CV] ...................................... , score=0.0, total=   0.1s\n",
      "[CV]  ................................................................\n"
     ]
    },
    {
     "name": "stderr",
     "output_type": "stream",
     "text": [
      "/anaconda3/envs/py36/lib/python3.6/site-packages/sklearn/multiclass.py:76: UserWarning: Label not 1 is present in all training examples.\n",
      "  str(classes[c]))\n"
     ]
    },
    {
     "name": "stdout",
     "output_type": "stream",
     "text": [
      "[CV] ................................... , score=0.0025, total=   0.1s\n",
      "[CV]  ................................................................\n",
      "[CV] ................................... , score=0.0075, total=   0.2s\n",
      "[CV]  ................................................................\n",
      "[CV] ..................................... , score=0.03, total=   0.2s\n",
      "[CV]  ................................................................\n",
      "[CV] ...................................... , score=0.0, total=   0.0s\n",
      "[CV]  ................................................................\n",
      "[CV] ................................... , score=0.0025, total=   0.1s\n",
      "[CV]  ................................................................\n",
      "[CV] .................................... , score=0.005, total=   0.1s\n",
      "[CV]  ................................................................\n",
      "[CV] .................................... , score=0.015, total=   0.2s\n",
      "[CV]  ................................................................\n",
      "[CV] ..................................... , score=0.03, total=   0.2s\n",
      "[CV]  ................................................................\n",
      "[CV] ...................................... , score=0.0, total=   0.0s\n",
      "[CV]  ................................................................\n",
      "[CV] ...................................... , score=0.0, total=   0.1s\n",
      "[CV]  ................................................................\n"
     ]
    },
    {
     "name": "stderr",
     "output_type": "stream",
     "text": [
      "/anaconda3/envs/py36/lib/python3.6/site-packages/sklearn/multiclass.py:76: UserWarning: Label not 7 is present in all training examples.\n",
      "  str(classes[c]))\n"
     ]
    },
    {
     "name": "stdout",
     "output_type": "stream",
     "text": [
      "[CV] ...................................... , score=0.0, total=   0.1s\n",
      "[CV]  ................................................................\n",
      "[CV] ................................... , score=0.0175, total=   0.2s\n",
      "[CV]  ................................................................\n",
      "[CV] ................................... , score=0.0175, total=   0.2s\n"
     ]
    },
    {
     "name": "stderr",
     "output_type": "stream",
     "text": [
      "[Parallel(n_jobs=1)]: Done  25 out of  25 | elapsed:    3.3s finished\n"
     ]
    },
    {
     "data": {
      "image/png": "[encoded data removed]",
      "text/plain": [
       "<matplotlib.figure.Figure at 0x145b8fa90>"
      ]
     },
     "metadata": {},
     "output_type": "display_data"
    }
   ],
   "source": [
    "# first to see the cv result \n",
    "from sklearn.model_selection import learning_curve\n",
    "import matplotlib.pyplot as plt\n",
    "from sklearn.model_selection import ShuffleSplit\n",
    "from sklearn.multiclass import OneVsRestClassifier\n",
    "from sklearn.linear_model import LogisticRegression\n",
    "\n",
    "\n",
    "%matplotlib inline\n",
    "\n",
    "# learning curve function\n",
    "# http://scikit-learn.org/stable/auto_examples/model_selection/plot_learning_curve.html\n",
    "\n",
    "def plot_learning_curve(\n",
    "        estimator, title, X, y, ylim=None, cv=None,\n",
    "        n_jobs=1, train_sizes=np.linspace(.1, 1.0, 5), verbose=0):\n",
    "\n",
    "    plt.figure()\n",
    "    plt.title(title)\n",
    "    if ylim is not None:\n",
    "        plt.ylim(*ylim)\n",
    "    plt.xlabel(\"Training examples\")\n",
    "    plt.ylabel(\"Score\")\n",
    "    train_sizes, train_scores, test_scores = learning_curve(\n",
    "        estimator, X, y, cv=cv, n_jobs=n_jobs, train_sizes=train_sizes, verbose=verbose)\n",
    "    train_scores_mean = np.mean(train_scores, axis=1)\n",
    "    train_scores_std = np.std(train_scores, axis=1)\n",
    "    test_scores_mean = np.mean(test_scores, axis=1)\n",
    "    test_scores_std = np.std(test_scores, axis=1)\n",
    "    plt.grid()\n",
    "\n",
    "    plt.fill_between(train_sizes, train_scores_mean - train_scores_std,\n",
    "                     train_scores_mean + train_scores_std, alpha=0.1,\n",
    "                     color=\"r\")\n",
    "    plt.fill_between(train_sizes, test_scores_mean - test_scores_std,\n",
    "                     test_scores_mean + test_scores_std, alpha=0.1, color=\"g\")\n",
    "    plt.plot(train_sizes, train_scores_mean, 'o-', color=\"r\",\n",
    "             label=\"Training score\")\n",
    "    plt.plot(train_sizes, test_scores_mean, 'o-', color=\"g\",\n",
    "             label=\"Cross-validation score\")\n",
    "\n",
    "    plt.legend(loc=\"best\")\n",
    "    return plt\n",
    "\n",
    "\n",
    "cv = ShuffleSplit(n_splits=5, test_size=0.2, random_state=0)\n",
    "ovr = OneVsRestClassifier(LogisticRegression())\n",
    "\n",
    "X = x_train\n",
    "train_labels = y_train\n",
    "print(X.shape)\n",
    "print(train_labels.shape)\n",
    "plot_learning_curve(ovr, \"Slot1 baseline learning curve \",\n",
    "                    X, train_labels, ylim=(0.0, 1.01), cv=cv, n_jobs=1, verbose=4)\n",
    "\n",
    "plt.show()"
   ]
  },
  {
   "cell_type": "code",
   "execution_count": 27,
   "metadata": {},
   "outputs": [],
   "source": [
    "from sklearn.utils import shuffle\n",
    "from sklearn.metrics import f1_score\n",
    "\n",
    "def loop_predict(model, x_train, x_test, y_train, y_test, loop=5):\n",
    "    f1 = []\n",
    "    for i in range(loop):\n",
    "        x_train, x_test = shuffle(x_train, x_test)\n",
    "        model.fit(x_train, x_test)\n",
    "        y_pred = model.predict(y_train)\n",
    "        micro_f1 = f1_score(y_test, y_pred, average='micro')\n",
    "        f1.append(micro_f1)\n",
    "    print(\"F1 is {} (+/-{})\".format(np.mean(f1), np.std(f1)))\n",
    "    return model"
   ]
  },
  {
   "cell_type": "code",
   "execution_count": 28,
   "metadata": {},
   "outputs": [],
   "source": [
    "train_x = x_train\n",
    "train_labels = y_train\n",
    "test_x = x_test\n",
    "test_labels = y_test"
   ]
  },
  {
   "cell_type": "code",
   "execution_count": 29,
   "metadata": {
    "scrolled": true
   },
   "outputs": [
    {
     "name": "stdout",
     "output_type": "stream",
     "text": [
      "F1 is 0.10312075983717772 (+/-0.0)\n"
     ]
    }
   ],
   "source": [
    "ovr = OneVsRestClassifier(LogisticRegression())\n",
    "\n",
    "model1 = loop_predict(ovr, train_x, train_labels, test_x, test_labels)"
   ]
  }
 ],
 "metadata": {
  "kernelspec": {
   "display_name": "Python [conda env:py36]",
   "language": "python",
   "name": "conda-env-py36-py"
  },
  "language_info": {
   "codemirror_mode": {
    "name": "ipython",
    "version": 3
   },
   "file_extension": ".py",
   "mimetype": "text/x-python",
   "name": "python",
   "nbconvert_exporter": "python",
   "pygments_lexer": "ipython3",
   "version": "3.6.4"
  }
 },
 "nbformat": 4,
 "nbformat_minor": 2
}
