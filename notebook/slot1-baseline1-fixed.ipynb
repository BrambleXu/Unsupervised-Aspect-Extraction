{
 "cells": [
  {
   "cell_type": "markdown",
   "metadata": {},
   "source": [
    "# SemEval 2016 Slot1 Task: GloVe Average\n",
    "\n",
    "\n",
    "This notebook is to make a baseline for slot1, aspect category detection. We use glove to generate sentence vector. "
   ]
  },
  {
   "cell_type": "code",
   "execution_count": 1,
   "metadata": {},
   "outputs": [],
   "source": [
    "import pandas as pd\n",
    "import numpy as np\n",
    "from pathlib import Path"
   ]
  },
  {
   "cell_type": "code",
   "execution_count": 2,
   "metadata": {},
   "outputs": [],
   "source": [
    "train_path = Path.cwd().parent.joinpath('datasets/semeval-2016/train.csv')\n",
    "test_path = Path.cwd().parent.joinpath('datasets/semeval-2016/test.csv')"
   ]
  },
  {
   "cell_type": "code",
   "execution_count": 3,
   "metadata": {},
   "outputs": [],
   "source": [
    "# Read data\n",
    "data_train = pd.read_csv(train_path)\n",
    "data_test = pd.read_csv(test_path)"
   ]
  },
  {
   "cell_type": "code",
   "execution_count": 4,
   "metadata": {},
   "outputs": [],
   "source": [
    "def df2data(df):\n",
    "    \"\"\"Read data and labels from dataframe\n",
    "    Input:\n",
    "        df: three columns, ['Sentence #', 'Tag', 'Word']\n",
    "    Output:\n",
    "        data: datasize * ['EU', 'rejects', 'German', 'call', 'to', 'boycott', 'British', 'lamb', '.']\n",
    "        label: datasize * ['B-ORG', 'O', 'B-MISC', 'O', 'O', 'O', 'B-MISC', 'O', 'O']\n",
    "    \"\"\"\n",
    "    agg_func = lambda s: [(w, t) for w, t in zip(s[\"Word\"].values.tolist(),\n",
    "                                                 s[\"Tag\"].values.tolist())]\n",
    "    grouped = df.groupby(\"Sentence #\").apply(agg_func)\n",
    "    data = [[w[0] for w in s] for s in grouped]\n",
    "    label = [[w[1] for w in s] for s in grouped]  \n",
    "    \n",
    "    return data, label"
   ]
  },
  {
   "cell_type": "code",
   "execution_count": 5,
   "metadata": {},
   "outputs": [],
   "source": [
    "x_train_words, _ = df2data(data_train)\n",
    "x_test_words, _ = df2data(data_test)"
   ]
  },
  {
   "cell_type": "code",
   "execution_count": 6,
   "metadata": {
    "scrolled": true
   },
   "outputs": [
    {
     "data": {
      "text/plain": [
       "['judging',\n",
       " 'from',\n",
       " 'previous',\n",
       " 'posts',\n",
       " 'this',\n",
       " 'used',\n",
       " 'to',\n",
       " 'be',\n",
       " 'a',\n",
       " 'good']"
      ]
     },
     "execution_count": 6,
     "metadata": {},
     "output_type": "execute_result"
    }
   ],
   "source": [
    "x_train_words[0][:10]"
   ]
  },
  {
   "cell_type": "markdown",
   "metadata": {},
   "source": [
    "### embedding "
   ]
  },
  {
   "cell_type": "code",
   "execution_count": 7,
   "metadata": {},
   "outputs": [],
   "source": [
    "def load_glove(file):\n",
    "    \"\"\"Loads GloVe vectors in numpy array.\n",
    "    Args:\n",
    "        file (str): a path to a glove file.\n",
    "    Return:\n",
    "        dict: a dict of numpy arrays.\n",
    "    \"\"\"\n",
    "    model = {}\n",
    "    with open(file, encoding=\"utf-8\") as f:\n",
    "        for line in f:\n",
    "            line = line.split(' ')\n",
    "            word = line[0]\n",
    "            vector = np.array([float(val) for val in line[1:]])\n",
    "            model[word] = vector\n",
    "\n",
    "    return model"
   ]
  },
  {
   "cell_type": "code",
   "execution_count": 10,
   "metadata": {},
   "outputs": [],
   "source": [
    "EMBEDDING_PATH = '../embedding_weights/glove.840B.300d.txt'"
   ]
  },
  {
   "cell_type": "code",
   "execution_count": null,
   "metadata": {},
   "outputs": [],
   "source": [
    "embeddings = load_glove(EMBEDDING_PATH)"
   ]
  },
  {
   "cell_type": "markdown",
   "metadata": {},
   "source": [
    "No need to padding"
   ]
  },
  {
   "cell_type": "code",
   "execution_count": null,
   "metadata": {},
   "outputs": [],
   "source": [
    "def words2vector(x_words, vector_size=200):\n",
    "\n",
    "    sentence_vectors = []\n",
    "    no_word_match = 0\n",
    "\n",
    "    for sent in x_words:\n",
    "        vector = []\n",
    "        for word in sent:\n",
    "            if embeddings.get(word) is not None:\n",
    "                vector.append(embeddings[word])\n",
    "        if len(vector) > 0:\n",
    "            sentence_vectors.append(np.mean(vector, axis=0))\n",
    "        else:\n",
    "            sentence_vectors.append(np.array([0] * vector_size))\n",
    "            no_word_match += 1\n",
    "\n",
    "    if no_word_match > 0:\n",
    "        print(\"{} sentences does not match any pretrained vector.\".format(no_word_match))\n",
    "\n",
    "    return np.array(sentence_vectors)"
   ]
  },
  {
   "cell_type": "code",
   "execution_count": null,
   "metadata": {},
   "outputs": [],
   "source": [
    "x_train = words2vector(x_train_words)\n",
    "x_test = words2vector(x_test_words)"
   ]
  },
  {
   "cell_type": "code",
   "execution_count": null,
   "metadata": {},
   "outputs": [],
   "source": [
    "print(x_train.shape)\n",
    "print(x_test.shape)"
   ]
  },
  {
   "cell_type": "markdown",
   "metadata": {},
   "source": [
    "### label \n",
    "\n",
    "Read label from csv file. this is a multicalss classification"
   ]
  },
  {
   "cell_type": "code",
   "execution_count": null,
   "metadata": {},
   "outputs": [],
   "source": [
    "train_path = Path.cwd().parent.joinpath('datasets/semeval-2016/slot1/train_label_df.csv')\n",
    "test_path = Path.cwd().parent.joinpath('datasets/semeval-2016/slot1/test_label_df.csv')"
   ]
  },
  {
   "cell_type": "code",
   "execution_count": null,
   "metadata": {},
   "outputs": [],
   "source": [
    "y_train_df = pd.read_csv(train_path)\n",
    "y_test_df = pd.read_csv(test_path)"
   ]
  },
  {
   "cell_type": "code",
   "execution_count": null,
   "metadata": {},
   "outputs": [],
   "source": [
    "y_train_df.head(3)"
   ]
  },
  {
   "cell_type": "markdown",
   "metadata": {},
   "source": [
    "# model construct"
   ]
  },
  {
   "cell_type": "code",
   "execution_count": null,
   "metadata": {},
   "outputs": [],
   "source": [
    "from sklearn.model_selection import learning_curve\n",
    "import matplotlib.pyplot as plt\n",
    "\n",
    "%matplotlib inline\n",
    "\n",
    "# learning curve function\n",
    "# http://scikit-learn.org/stable/auto_examples/model_selection/plot_learning_curve.html\n",
    "\n",
    "def plot_learning_curve(\n",
    "        estimator, title, X, y, ylim=None, cv=None,\n",
    "        n_jobs=1, train_sizes=np.linspace(.1, 1.0, 5), verbose=0):\n",
    "\n",
    "    plt.figure()\n",
    "    plt.title(title)\n",
    "    if ylim is not None:\n",
    "        plt.ylim(*ylim)\n",
    "    plt.xlabel(\"Training examples\")\n",
    "    plt.ylabel(\"Score\")\n",
    "    train_sizes, train_scores, test_scores = learning_curve(\n",
    "        estimator, X, y, cv=cv, n_jobs=n_jobs, train_sizes=train_sizes, verbose=verbose)\n",
    "    train_scores_mean = np.mean(train_scores, axis=1)\n",
    "    train_scores_std = np.std(train_scores, axis=1)\n",
    "    test_scores_mean = np.mean(test_scores, axis=1)\n",
    "    test_scores_std = np.std(test_scores, axis=1)\n",
    "    plt.grid()\n",
    "\n",
    "    plt.fill_between(train_sizes, train_scores_mean - train_scores_std,\n",
    "                     train_scores_mean + train_scores_std, alpha=0.1,\n",
    "                     color=\"r\")\n",
    "    plt.fill_between(train_sizes, test_scores_mean - test_scores_std,\n",
    "                     test_scores_mean + test_scores_std, alpha=0.1, color=\"g\")\n",
    "    plt.plot(train_sizes, train_scores_mean, 'o-', color=\"r\",\n",
    "             label=\"Training score\")\n",
    "    plt.plot(train_sizes, test_scores_mean, 'o-', color=\"g\",\n",
    "             label=\"Cross-validation score\")\n",
    "\n",
    "    plt.legend(loc=\"best\")\n",
    "    return plt"
   ]
  },
  {
   "cell_type": "code",
   "execution_count": null,
   "metadata": {},
   "outputs": [],
   "source": [
    "from sklearn.multiclass import OneVsRestClassifier\n",
    "from sklearn.linear_model import LogisticRegression\n",
    "from sklearn.model_selection import ShuffleSplit\n",
    "\n",
    "\n",
    "cv = ShuffleSplit(n_splits=5, test_size=0.2, random_state=0)\n",
    "ovr = OneVsRestClassifier(LogisticRegression())\n",
    "\n",
    "plot_learning_curve(ovr, \"Slot1 baseline learning curve \",\n",
    "                    x_train, y_train_df, ylim=(0.0, 1.01), cv=cv, n_jobs=1, verbose=4)\n",
    "\n",
    "plt.show()"
   ]
  },
  {
   "cell_type": "code",
   "execution_count": null,
   "metadata": {},
   "outputs": [],
   "source": [
    "from sklearn.model_selection import train_test_split\n",
    "from sklearn.metrics import f1_score\n",
    "\n",
    "\n",
    "ovr = OneVsRestClassifier(LogisticRegression())\n",
    "ovr.fit(x_train, y_train_df)\n",
    "\n",
    "predicted = ovr.predict(x_test)\n",
    "f1_score(y_test_df, predicted, average=\"micro\")"
   ]
  },
  {
   "cell_type": "code",
   "execution_count": null,
   "metadata": {},
   "outputs": [],
   "source": []
  }
 ],
 "metadata": {
  "kernelspec": {
   "display_name": "Python [default]",
   "language": "python",
   "name": "python3"
  },
  "language_info": {
   "codemirror_mode": {
    "name": "ipython",
    "version": 3
   },
   "file_extension": ".py",
   "mimetype": "text/x-python",
   "name": "python",
   "nbconvert_exporter": "python",
   "pygments_lexer": "ipython3",
   "version": "3.6.4"
  }
 },
 "nbformat": 4,
 "nbformat_minor": 2
}
