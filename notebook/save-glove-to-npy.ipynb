{
 "cells": [
  {
   "cell_type": "code",
   "execution_count": 3,
   "metadata": {},
   "outputs": [],
   "source": []
  },
  {
   "cell_type": "code",
   "execution_count": 2,
   "metadata": {},
   "outputs": [],
   "source": [
    "import math\n",
    "import os\n",
    "import numpy as np\n",
    "from tqdm import tqdm\n",
    "\n",
    "\n",
    "def load_glove(file):\n",
    "    \"\"\"Loads GloVe vectors in numpy array.\n",
    "    Args:\n",
    "        file (str): a path to a glove file.\n",
    "    Return:\n",
    "        dict: a dict of numpy arrays.\n",
    "    \"\"\"\n",
    "    embeddings_index = {}\n",
    "    with open(file, encoding='utf8') as f:\n",
    "        for i, line in tqdm(enumerate(f)):\n",
    "            values = line.split()\n",
    "            word = ''.join(values[:-300])\n",
    "            coefs = np.asarray(values[-300:], dtype='float32')\n",
    "            embeddings_index[word] = coefs\n",
    "\n",
    "    return embeddings_index\n",
    "\n",
    "# EMBEDDING_PATH = '../embedding_weights/glove.840B.300d.txt'\n",
    "EMBEDDING_PATH = 'glove.840B.300d.txt'\n",
    "embeddings = load_glove(EMBEDDING_PATH)\n",
    " \n",
    "np.save('glove_embeddings.npy', embeddings) "
   ]
  },
  {
   "cell_type": "code",
   "execution_count": 6,
   "metadata": {},
   "outputs": [],
   "source": [
    "import pandas as pd\n",
    "import csv\n",
    "\n",
    "glove_data_file = '../embedding_weights/glove.840B.300d.txt'\n",
    "words = pd.read_table(glove_data_file, sep=\" \", index_col=0, header=None, quoting=csv.QUOTE_NONE)"
   ]
  },
  {
   "cell_type": "code",
   "execution_count": 7,
   "metadata": {},
   "outputs": [],
   "source": [
    "def vec(w):\n",
    "    return words.loc[w].as_matrix()"
   ]
  },
  {
   "cell_type": "code",
   "execution_count": null,
   "metadata": {},
   "outputs": [],
   "source": []
  }
 ],
 "metadata": {
  "kernelspec": {
   "display_name": "Python [conda env:py36]",
   "language": "python",
   "name": "conda-env-py36-py"
  },
  "language_info": {
   "codemirror_mode": {
    "name": "ipython",
    "version": 3
   },
   "file_extension": ".py",
   "mimetype": "text/x-python",
   "name": "python",
   "nbconvert_exporter": "python",
   "pygments_lexer": "ipython3",
   "version": "3.6.4"
  }
 },
 "nbformat": 4,
 "nbformat_minor": 2
}
