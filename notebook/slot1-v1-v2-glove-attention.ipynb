{
 "cells": [
  {
   "cell_type": "markdown",
   "metadata": {},
   "source": [
    "# SemEval 2016 Slot1 Task: GloVe Average with Gold (target) Attention\n",
    "\n",
    "\n",
    "This notebook is to make a baseline for slot1, aspect category detection. We use glove to generate sentence vector. \n",
    "\n",
    "Because we want to augment the embedding wegiht of target word to evaluate whether or not the attention is useful. "
   ]
  },
  {
   "cell_type": "code",
   "execution_count": 1,
   "metadata": {},
   "outputs": [],
   "source": [
    "import pandas as pd\n",
    "import numpy as np\n",
    "from pathlib import Path"
   ]
  },
  {
   "cell_type": "code",
   "execution_count": 2,
   "metadata": {},
   "outputs": [],
   "source": [
    "train_path = Path.cwd().parent.joinpath('datasets/semeval-2016/train.csv')\n",
    "test_path = Path.cwd().parent.joinpath('datasets/semeval-2016/test.csv')"
   ]
  },
  {
   "cell_type": "code",
   "execution_count": 3,
   "metadata": {},
   "outputs": [],
   "source": [
    "# Read data\n",
    "data_train = pd.read_csv(train_path)\n",
    "data_test = pd.read_csv(test_path)"
   ]
  },
  {
   "cell_type": "code",
   "execution_count": 4,
   "metadata": {},
   "outputs": [],
   "source": [
    "def df2data(df):\n",
    "    \"\"\"Read data and labels from dataframe\n",
    "    Input:\n",
    "        df: three columns, ['Sentence #', 'Tag', 'Word']\n",
    "    Output:\n",
    "        data: datasize * ['EU', 'rejects', 'German', 'call', 'to', 'boycott', 'British', 'lamb', '.']\n",
    "        label: datasize * ['B-ORG', 'O', 'B-MISC', 'O', 'O', 'O', 'B-MISC', 'O', 'O']\n",
    "    \"\"\"\n",
    "    agg_func = lambda s: [(w, t) for w, t in zip(s[\"Word\"].values.tolist(),\n",
    "                                                 s[\"Tag\"].values.tolist())]\n",
    "    grouped = df.groupby(\"Sentence #\").apply(agg_func)\n",
    "    data = [[w[0] for w in s] for s in grouped]\n",
    "    label = [[w[1] for w in s] for s in grouped]  \n",
    "    \n",
    "    return data, label"
   ]
  },
  {
   "cell_type": "code",
   "execution_count": 5,
   "metadata": {},
   "outputs": [],
   "source": [
    "import xml.etree.ElementTree as ET\n",
    "from collections import namedtuple\n",
    "from collections import Counter\n",
    "\n",
    "\n",
    "def read_targets(file_path):\n",
    "    root = ET.parse(file_path)\n",
    "    sentences = []\n",
    "    class_targets = {}\n",
    "    for review in root.findall(\"./Review\"):\n",
    "        for sentence in review.findall(\"./sentences/sentence\"):\n",
    "            targets = []\n",
    "            for opinion in sentence.findall(\"./Opinions/Opinion\"):\n",
    "                target = opinion.attrib[\"target\"]\n",
    "                _class = opinion.attrib[\"category\"]\n",
    "                if target != \"NULL\":\n",
    "                    targets.append(target)\n",
    "                    if _class not in class_targets:\n",
    "                        class_targets[_class] = Counter()\n",
    "                    class_targets[_class][target] += 1\n",
    "                \n",
    "            sentences.append(targets)\n",
    "                \n",
    "    return sentences, class_targets"
   ]
  },
  {
   "cell_type": "code",
   "execution_count": 6,
   "metadata": {},
   "outputs": [
    {
     "name": "stdout",
     "output_type": "stream",
     "text": [
      "2000\n",
      "676\n",
      "[['place'], ['staff'], [], ['food', 'portions'], [], ['place'], ['food'], ['Saul'], ['foie gras terrine with figs', 'duck confit'], ['wine list', 'wine list']]\n",
      "[('food', 188), ('pizza', 20), ('sushi', 19)]\n"
     ]
    }
   ],
   "source": [
    "# load target words from npy\n",
    "train_target_path = '../datasets/raw-semeval-2016/train.xml'\n",
    "test_target_path = '../datasets/raw-semeval-2016/test.xml'\n",
    "\n",
    "train_targets, train_class_targets = read_targets(train_target_path)\n",
    "test_targets, test_class_targets = read_targets(test_target_path)\n",
    "print(len(train_targets))\n",
    "print(len(test_targets))\n",
    "print(train_targets[:10])\n",
    "print(train_class_targets[\"FOOD#QUALITY\"].most_common()[:3])"
   ]
  },
  {
   "cell_type": "code",
   "execution_count": 7,
   "metadata": {},
   "outputs": [],
   "source": [
    "x_train_words, _ = df2data(data_train)\n",
    "x_test_words, _ = df2data(data_test)"
   ]
  },
  {
   "cell_type": "markdown",
   "metadata": {},
   "source": [
    "### embedding"
   ]
  },
  {
   "cell_type": "code",
   "execution_count": 9,
   "metadata": {},
   "outputs": [],
   "source": [
    "def load_glove(file):\n",
    "    \"\"\"Loads GloVe vectors in numpy array.\n",
    "    Args:\n",
    "        file (str): a path to a glove file.\n",
    "    Return:\n",
    "        dict: a dict of numpy arrays.\n",
    "    \"\"\"\n",
    "    model = {}\n",
    "    with open(file, encoding=\"utf-8\") as f:\n",
    "        for line in f:\n",
    "            line = line.split(' ')\n",
    "            word = line[0]\n",
    "            vector = np.array([float(val) for val in line[1:]])\n",
    "            model[word] = vector\n",
    "\n",
    "    return model"
   ]
  },
  {
   "cell_type": "code",
   "execution_count": 28,
   "metadata": {},
   "outputs": [],
   "source": [
    "EMBEDDING_PATH = '../embedding_weights/glove.6B.300d.txt'"
   ]
  },
  {
   "cell_type": "code",
   "execution_count": 29,
   "metadata": {},
   "outputs": [],
   "source": [
    "embeddings = load_glove(EMBEDDING_PATH)"
   ]
  },
  {
   "cell_type": "markdown",
   "metadata": {},
   "source": [
    "Sum all to `word2vector_weighted` function, augment the weight if the word is target word"
   ]
  },
  {
   "cell_type": "code",
   "execution_count": 30,
   "metadata": {},
   "outputs": [],
   "source": [
    "def word2vector_weighted(x_words, targets, weight=2, vector_size=200, verbose=False):\n",
    "\n",
    "    sentence_vectors = []\n",
    "    no_word_match = 0\n",
    "\n",
    "    for sent, _targets in zip(x_words, targets):\n",
    "        vector = []\n",
    "\n",
    "        for word in sent:\n",
    "            if embeddings.get(word) is None:\n",
    "                continue\n",
    "\n",
    "            e = embeddings[word]\n",
    "            # simple method to match multiple target\n",
    "            if sum([1 if word in t else 0 for t in _targets]) > 0:\n",
    "                e = e * weight\n",
    "            vector.append(e)\n",
    "\n",
    "        if len(vector) > 0:\n",
    "            sentence_vectors.append(np.mean(vector, axis=0))\n",
    "        else:\n",
    "            sentence_vectors.append(np.array([0] * vector_size))\n",
    "            no_word_match += 1\n",
    "\n",
    "    if verbose and no_word_match > 0:\n",
    "        print(\"{} sentences does not match any pretrained vector.\".format(no_word_match))\n",
    "\n",
    "    return np.array(sentence_vectors)"
   ]
  },
  {
   "cell_type": "code",
   "execution_count": 40,
   "metadata": {},
   "outputs": [],
   "source": [
    "def words2vector(x_words, vector_size=200):\n",
    "\n",
    "    sentence_vectors = []\n",
    "    no_word_match = 0\n",
    "\n",
    "    for sent in x_words:\n",
    "        vector = []\n",
    "        for word in sent:\n",
    "            if embeddings.get(word) is not None:\n",
    "                vector.append(embeddings[word])\n",
    "        if len(vector) > 0:\n",
    "            sentence_vectors.append(np.mean(vector, axis=0))\n",
    "        else:\n",
    "            sentence_vectors.append(np.array([0] * vector_size))\n",
    "            no_word_match += 1\n",
    "\n",
    "    if no_word_match > 0:\n",
    "        print(\"{} sentences does not match any pretrained vector.\".format(no_word_match))\n",
    "\n",
    "    return np.array(sentence_vectors)"
   ]
  },
  {
   "cell_type": "code",
   "execution_count": 41,
   "metadata": {},
   "outputs": [
    {
     "name": "stdout",
     "output_type": "stream",
     "text": [
      "1 sentences does not match any pretrained vector.\n"
     ]
    }
   ],
   "source": [
    "x_train = words2vector(x_train_words, vector_size=300)\n",
    "x_test = words2vector(x_test_words, vector_size=300)"
   ]
  },
  {
   "cell_type": "code",
   "execution_count": 32,
   "metadata": {},
   "outputs": [
    {
     "name": "stdout",
     "output_type": "stream",
     "text": [
      "(2000, 300)\n",
      "(676, 300)\n"
     ]
    }
   ],
   "source": [
    "print(x_train.shape)\n",
    "print(x_test.shape)"
   ]
  },
  {
   "cell_type": "markdown",
   "metadata": {},
   "source": [
    "### label \n",
    "\n",
    "this is a multicalss classification"
   ]
  },
  {
   "cell_type": "code",
   "execution_count": 33,
   "metadata": {},
   "outputs": [],
   "source": [
    "train_path = Path.cwd().parent.joinpath('datasets/semeval-2016/slot1/train_label_df.csv')\n",
    "test_path = Path.cwd().parent.joinpath('datasets/semeval-2016/slot1/test_label_df.csv')"
   ]
  },
  {
   "cell_type": "code",
   "execution_count": 34,
   "metadata": {},
   "outputs": [],
   "source": [
    "y_train_df = pd.read_csv(train_path)\n",
    "y_test_df = pd.read_csv(test_path)"
   ]
  },
  {
   "cell_type": "code",
   "execution_count": 35,
   "metadata": {},
   "outputs": [
    {
     "data": {
      "text/html": [
       "<div>\n",
       "<style scoped>\n",
       "    .dataframe tbody tr th:only-of-type {\n",
       "        vertical-align: middle;\n",
       "    }\n",
       "\n",
       "    .dataframe tbody tr th {\n",
       "        vertical-align: top;\n",
       "    }\n",
       "\n",
       "    .dataframe thead th {\n",
       "        text-align: right;\n",
       "    }\n",
       "</style>\n",
       "<table border=\"1\" class=\"dataframe\">\n",
       "  <thead>\n",
       "    <tr style=\"text-align: right;\">\n",
       "      <th></th>\n",
       "      <th>AMBIENCE#GENERAL</th>\n",
       "      <th>DRINKS#PRICES</th>\n",
       "      <th>DRINKS#QUALITY</th>\n",
       "      <th>DRINKS#STYLE_OPTIONS</th>\n",
       "      <th>FOOD#PRICES</th>\n",
       "      <th>FOOD#QUALITY</th>\n",
       "      <th>FOOD#STYLE_OPTIONS</th>\n",
       "      <th>LOCATION#GENERAL</th>\n",
       "      <th>RESTAURANT#GENERAL</th>\n",
       "      <th>RESTAURANT#MISCELLANEOUS</th>\n",
       "      <th>RESTAURANT#PRICES</th>\n",
       "      <th>SERVICE#GENERAL</th>\n",
       "    </tr>\n",
       "  </thead>\n",
       "  <tbody>\n",
       "    <tr>\n",
       "      <th>0</th>\n",
       "      <td>0</td>\n",
       "      <td>0</td>\n",
       "      <td>0</td>\n",
       "      <td>0</td>\n",
       "      <td>0</td>\n",
       "      <td>0</td>\n",
       "      <td>0</td>\n",
       "      <td>0</td>\n",
       "      <td>1</td>\n",
       "      <td>0</td>\n",
       "      <td>0</td>\n",
       "      <td>0</td>\n",
       "    </tr>\n",
       "    <tr>\n",
       "      <th>1</th>\n",
       "      <td>0</td>\n",
       "      <td>0</td>\n",
       "      <td>0</td>\n",
       "      <td>0</td>\n",
       "      <td>0</td>\n",
       "      <td>0</td>\n",
       "      <td>0</td>\n",
       "      <td>0</td>\n",
       "      <td>0</td>\n",
       "      <td>0</td>\n",
       "      <td>0</td>\n",
       "      <td>1</td>\n",
       "    </tr>\n",
       "    <tr>\n",
       "      <th>2</th>\n",
       "      <td>0</td>\n",
       "      <td>0</td>\n",
       "      <td>0</td>\n",
       "      <td>0</td>\n",
       "      <td>0</td>\n",
       "      <td>0</td>\n",
       "      <td>0</td>\n",
       "      <td>0</td>\n",
       "      <td>0</td>\n",
       "      <td>0</td>\n",
       "      <td>0</td>\n",
       "      <td>1</td>\n",
       "    </tr>\n",
       "  </tbody>\n",
       "</table>\n",
       "</div>"
      ],
      "text/plain": [
       "   AMBIENCE#GENERAL  DRINKS#PRICES  DRINKS#QUALITY  DRINKS#STYLE_OPTIONS  \\\n",
       "0                 0              0               0                     0   \n",
       "1                 0              0               0                     0   \n",
       "2                 0              0               0                     0   \n",
       "\n",
       "   FOOD#PRICES  FOOD#QUALITY  FOOD#STYLE_OPTIONS  LOCATION#GENERAL  \\\n",
       "0            0             0                   0                 0   \n",
       "1            0             0                   0                 0   \n",
       "2            0             0                   0                 0   \n",
       "\n",
       "   RESTAURANT#GENERAL  RESTAURANT#MISCELLANEOUS  RESTAURANT#PRICES  \\\n",
       "0                   1                         0                  0   \n",
       "1                   0                         0                  0   \n",
       "2                   0                         0                  0   \n",
       "\n",
       "   SERVICE#GENERAL  \n",
       "0                0  \n",
       "1                1  \n",
       "2                1  "
      ]
     },
     "execution_count": 35,
     "metadata": {},
     "output_type": "execute_result"
    }
   ],
   "source": [
    "y_train_df.head(3)"
   ]
  },
  {
   "cell_type": "markdown",
   "metadata": {},
   "source": [
    "# model construct"
   ]
  },
  {
   "cell_type": "code",
   "execution_count": 36,
   "metadata": {},
   "outputs": [],
   "source": [
    "from sklearn.model_selection import learning_curve\n",
    "import matplotlib.pyplot as plt\n",
    "\n",
    "%matplotlib inline\n",
    "\n",
    "# learning curve function\n",
    "# http://scikit-learn.org/stable/auto_examples/model_selection/plot_learning_curve.html\n",
    "\n",
    "def plot_learning_curve(\n",
    "        estimator, title, X, y, ylim=None, cv=None,\n",
    "        n_jobs=1, train_sizes=np.linspace(.1, 1.0, 5), verbose=0):\n",
    "\n",
    "    plt.figure()\n",
    "    plt.title(title)\n",
    "    if ylim is not None:\n",
    "        plt.ylim(*ylim)\n",
    "    plt.xlabel(\"Training examples\")\n",
    "    plt.ylabel(\"Score\")\n",
    "    train_sizes, train_scores, test_scores = learning_curve(\n",
    "        estimator, X, y, cv=cv, n_jobs=n_jobs, train_sizes=train_sizes, verbose=verbose)\n",
    "    train_scores_mean = np.mean(train_scores, axis=1)\n",
    "    train_scores_std = np.std(train_scores, axis=1)\n",
    "    test_scores_mean = np.mean(test_scores, axis=1)\n",
    "    test_scores_std = np.std(test_scores, axis=1)\n",
    "    plt.grid()\n",
    "\n",
    "    plt.fill_between(train_sizes, train_scores_mean - train_scores_std,\n",
    "                     train_scores_mean + train_scores_std, alpha=0.1,\n",
    "                     color=\"r\")\n",
    "    plt.fill_between(train_sizes, test_scores_mean - test_scores_std,\n",
    "                     test_scores_mean + test_scores_std, alpha=0.1, color=\"g\")\n",
    "    plt.plot(train_sizes, train_scores_mean, 'o-', color=\"r\",\n",
    "             label=\"Training score\")\n",
    "    plt.plot(train_sizes, test_scores_mean, 'o-', color=\"g\",\n",
    "             label=\"Cross-validation score\")\n",
    "\n",
    "    plt.legend(loc=\"best\")\n",
    "    return plt"
   ]
  },
  {
   "cell_type": "code",
   "execution_count": 37,
   "metadata": {},
   "outputs": [
    {
     "name": "stdout",
     "output_type": "stream",
     "text": [
      "[learning_curve] Training set sizes: [ 160  520  880 1240 1600]\n",
      "[CV]  ................................................................\n",
      "[CV] ................................... , score=0.3775, total=   0.1s\n",
      "[CV]  ................................................................\n"
     ]
    },
    {
     "name": "stderr",
     "output_type": "stream",
     "text": [
      "[Parallel(n_jobs=1)]: Done   1 out of   1 | elapsed:    0.1s remaining:    0.0s\n",
      "[Parallel(n_jobs=1)]: Done   2 out of   2 | elapsed:    0.3s remaining:    0.0s\n"
     ]
    },
    {
     "name": "stdout",
     "output_type": "stream",
     "text": [
      "[CV] ................................... , score=0.4175, total=   0.2s\n",
      "[CV]  ................................................................\n",
      "[CV] .................................... , score=0.435, total=   0.4s\n",
      "[CV]  ................................................................\n"
     ]
    },
    {
     "name": "stderr",
     "output_type": "stream",
     "text": [
      "[Parallel(n_jobs=1)]: Done   3 out of   3 | elapsed:    0.6s remaining:    0.0s\n"
     ]
    },
    {
     "name": "stdout",
     "output_type": "stream",
     "text": [
      "[CV] ................................... , score=0.4675, total=   0.5s\n",
      "[CV]  ................................................................\n",
      "[CV] ................................... , score=0.4725, total=   0.7s\n",
      "[CV]  ................................................................\n",
      "[CV] ................................... , score=0.3175, total=   0.1s\n",
      "[CV]  ................................................................\n",
      "[CV] ................................... , score=0.4225, total=   0.2s\n",
      "[CV]  ................................................................\n",
      "[CV] ................................... , score=0.4525, total=   0.3s\n",
      "[CV]  ................................................................\n",
      "[CV] ................................... , score=0.4625, total=   0.5s\n",
      "[CV]  ................................................................\n",
      "[CV] ..................................... , score=0.46, total=   0.7s\n",
      "[CV]  ................................................................\n",
      "[CV] ................................... , score=0.3375, total=   0.0s\n",
      "[CV]  ................................................................\n"
     ]
    },
    {
     "name": "stderr",
     "output_type": "stream",
     "text": [
      "/anaconda3/envs/py36/lib/python3.6/site-packages/sklearn/multiclass.py:76: UserWarning: Label not 1 is present in all training examples.\n",
      "  str(classes[c]))\n"
     ]
    },
    {
     "name": "stdout",
     "output_type": "stream",
     "text": [
      "[CV] ..................................... , score=0.41, total=   0.2s\n",
      "[CV]  ................................................................\n",
      "[CV] ................................... , score=0.4075, total=   0.4s\n",
      "[CV]  ................................................................\n",
      "[CV] ................................... , score=0.4225, total=   0.5s\n",
      "[CV]  ................................................................\n",
      "[CV] ................................... , score=0.4375, total=   0.7s\n",
      "[CV]  ................................................................\n",
      "[CV] ................................... , score=0.3425, total=   0.1s\n",
      "[CV]  ................................................................\n",
      "[CV] .................................... , score=0.415, total=   0.2s\n",
      "[CV]  ................................................................\n",
      "[CV] ................................... , score=0.4275, total=   0.3s\n",
      "[CV]  ................................................................\n",
      "[CV] ................................... , score=0.4575, total=   0.5s\n",
      "[CV]  ................................................................\n",
      "[CV] ..................................... , score=0.45, total=   0.7s\n",
      "[CV]  ................................................................\n",
      "[CV] ................................... , score=0.3325, total=   0.1s\n",
      "[CV]  ................................................................\n"
     ]
    },
    {
     "name": "stderr",
     "output_type": "stream",
     "text": [
      "/anaconda3/envs/py36/lib/python3.6/site-packages/sklearn/multiclass.py:76: UserWarning: Label not 7 is present in all training examples.\n",
      "  str(classes[c]))\n"
     ]
    },
    {
     "name": "stdout",
     "output_type": "stream",
     "text": [
      "[CV] ................................... , score=0.3875, total=   0.2s\n",
      "[CV]  ................................................................\n",
      "[CV] ................................... , score=0.4225, total=   0.4s\n",
      "[CV]  ................................................................\n",
      "[CV] ................................... , score=0.4275, total=   0.5s\n",
      "[CV]  ................................................................\n",
      "[CV] ................................... , score=0.4425, total=   0.7s\n"
     ]
    },
    {
     "name": "stderr",
     "output_type": "stream",
     "text": [
      "[Parallel(n_jobs=1)]: Done  25 out of  25 | elapsed:    9.0s finished\n"
     ]
    },
    {
     "data": {
      "image/png": "[encoded data removed]",
      "text/plain": [
       "<matplotlib.figure.Figure at 0x138656240>"
      ]
     },
     "metadata": {},
     "output_type": "display_data"
    }
   ],
   "source": [
    "from sklearn.multiclass import OneVsRestClassifier\n",
    "from sklearn.linear_model import LogisticRegression\n",
    "from sklearn.model_selection import ShuffleSplit\n",
    "\n",
    "\n",
    "cv = ShuffleSplit(n_splits=5, test_size=0.2, random_state=0)\n",
    "ovr = OneVsRestClassifier(LogisticRegression())\n",
    "\n",
    "plot_learning_curve(ovr, \"Slot1 baseline learning curve \",\n",
    "                    x_train, y_train_df, ylim=(0.0, 1.01), cv=cv, n_jobs=1, verbose=4)\n",
    "\n",
    "plt.show()"
   ]
  },
  {
   "cell_type": "code",
   "execution_count": 38,
   "metadata": {},
   "outputs": [],
   "source": [
    "from sklearn.model_selection import train_test_split\n",
    "from sklearn.metrics import f1_score\n",
    "\n",
    "\n",
    "def calc_score(x_train, y_train, x_test, y_test):\n",
    "    ovr = OneVsRestClassifier(LogisticRegression())\n",
    "    ovr.fit(x_train, y_train)\n",
    "\n",
    "    predicted = ovr.predict(x_test)\n",
    "    score = f1_score(y_test, predicted, average=\"micro\")\n",
    "    return score"
   ]
  },
  {
   "cell_type": "code",
   "execution_count": 39,
   "metadata": {
    "scrolled": true
   },
   "outputs": [
    {
     "name": "stdout",
     "output_type": "stream",
     "text": [
      "f1 score is 0.5924713584288052 when weight is 1\n",
      "f1 score is 0.6140209508460919 when weight is 1.5\n",
      "f1 score is 0.6249008723235528 when weight is 2\n",
      "f1 score is 0.631993695823483 when weight is 2.5\n",
      "f1 score is 0.6378633150039278 when weight is 3\n"
     ]
    }
   ],
   "source": [
    "for w in [1, 1.5, 2, 2.5, 3]:\n",
    "    x_train = word2vector_weighted(x_train_words, train_targets, weight=w, vector_size=300)\n",
    "    x_test = word2vector_weighted(x_test_words, test_targets, weight=w, vector_size=300)\n",
    "    s = calc_score(x_train, y_train_df, x_test, y_test_df)\n",
    "    print(\"f1 score is {} when weight is {}\".format(s, w))"
   ]
  },
  {
   "cell_type": "markdown",
   "metadata": {},
   "source": [
    "\n",
    "Baseline, no augment target word embedding, glove only\n",
    "- `glove.6B.200d.txt`: 0.594\n",
    "- `glove.840B.300d.txt`: 0.622\n",
    "\n",
    "\n",
    "target augmented version\n",
    "- `glove.6B.200d.txt`: 0.6337\n",
    "```\n",
    "f1 score is 0.5942386831275719 when weight is 1\n",
    "f1 score is 0.6142625607779579 when weight is 1.5\n",
    "f1 score is 0.6318327974276527 when weight is 2\n",
    "f1 score is 0.6337579617834395 when weight is 2.5\n",
    "f1 score is 0.632831086439334 when weight is 3\n",
    "```\n",
    "\n",
    "\n",
    "\n",
    "- `glove.6B.300d.txt`: 0.6378\n",
    "```\n",
    "f1 score is 0.5924713584288052 when weight is 1\n",
    "f1 score is 0.6140209508460919 when weight is 1.5\n",
    "f1 score is 0.6249008723235528 when weight is 2\n",
    "f1 score is 0.631993695823483 when weight is 2.5\n",
    "f1 score is 0.6378633150039278 when weight is 3\n",
    "```\n",
    "\n",
    "\n",
    "- `glove.840B.300d.txt`: 0.6506\n",
    "\n",
    "```\n",
    "f1 score is 0.6220095693779905 when weight is 1\n",
    "f1 score is 0.6334125098970705 when weight is 1.5\n",
    "f1 score is 0.6447058823529412 when weight is 2\n",
    "f1 score is 0.6505836575875487 when weight is 2.5\n",
    "f1 score is 0.6506211180124223 when weight is 3\n",
    "```"
   ]
  },
  {
   "cell_type": "markdown",
   "metadata": {},
   "source": [
    "# Add attention vector\n",
    "\n",
    "## version 1 \n",
    "\n",
    "This time we train the attention vector only use `semeval-2016/train.csv`. Due to the small dataset, we think the performance won't be good. \n",
    "\n",
    "version 1:\n",
    "- vocab: 4000 \n",
    "\n",
    "There are two way to use the attention vector:\n",
    "- concatenate glove sentence vector and attention vector\n",
    "- multiply glove sentence vector and attention vector "
   ]
  },
  {
   "cell_type": "code",
   "execution_count": 151,
   "metadata": {},
   "outputs": [],
   "source": [
    "train_att_sentences = Path.cwd().parent.joinpath('code/output_dir/semeval-2016/train_att_sentences_v1.npy')\n",
    "test_att_sentences = Path.cwd().parent.joinpath('code/output_dir/semeval-2016/test_att_sentences_v1.npy')\n",
    "train_att_weights = Path.cwd().parent.joinpath('code/output_dir/semeval-2016/train_att_weights_v1.npy')\n",
    "test_att_weights = Path.cwd().parent.joinpath('code/output_dir/semeval-2016/test_att_weights_v1.npy')"
   ]
  },
  {
   "cell_type": "code",
   "execution_count": 152,
   "metadata": {},
   "outputs": [],
   "source": [
    "train_att_sentences = np.load(train_att_sentences)\n",
    "test_att_sentences = np.load(test_att_sentences)\n",
    "train_att_weights = np.load(train_att_weights)\n",
    "test_att_weights = np.load(test_att_weights)"
   ]
  },
  {
   "cell_type": "code",
   "execution_count": 155,
   "metadata": {},
   "outputs": [
    {
     "name": "stdout",
     "output_type": "stream",
     "text": [
      "f1 score is 0.011299435028248588 when method is only sentence vector with attention score\n",
      "f1 score is 0.003003003003003003 when method is only sentence vector with attention score\n"
     ]
    }
   ],
   "source": [
    "# No scaler, only training data\n",
    "s = calc_score(train_att_sentences, y_train_df, train_att_sentences, y_train_df)\n",
    "print(\"f1 score is {} when method is {}\".format(s, 'only sentence vector with attention score'))\n",
    "# No scaler, training data and test data\n",
    "s = calc_score(train_att_sentences, y_train_df, test_att_sentences, y_test_df)\n",
    "print(\"f1 score is {} when method is {}\".format(s, 'only sentence vector with attention score'))"
   ]
  },
  {
   "cell_type": "code",
   "execution_count": 156,
   "metadata": {},
   "outputs": [
    {
     "name": "stdout",
     "output_type": "stream",
     "text": [
      "f1 score is 0.41768131286394916 when method is only sentence vector with attention score\n",
      "f1 score is 0.2057091073855913 when method is only sentence vector with attention score\n"
     ]
    }
   ],
   "source": [
    "# Standarlization\n",
    "scaler = StandardScaler().fit(train_att_sentences) \n",
    "x_scaler = scaler.transform(train_att_sentences)\n",
    "x_scaler_test = scaler.transform(test_att_sentences)\n",
    "\n",
    "s = calc_score(x_scaler, y_train_df, x_scaler, y_train_df)\n",
    "print(\"f1 score is {} when method is {}\".format(s, 'only sentence vector with attention score'))\n",
    "\n",
    "s = calc_score(x_scaler, y_train_df, x_scaler_test, y_test_df)\n",
    "print(\"f1 score is {} when method is {}\".format(s, 'only sentence vector with attention score'))"
   ]
  },
  {
   "cell_type": "code",
   "execution_count": 133,
   "metadata": {},
   "outputs": [
    {
     "name": "stdout",
     "output_type": "stream",
     "text": [
      "f1 score is 0.0037821482602118004 when method is only sentence vector with attention score\n",
      "f1 score is 0.05122575923893158 when method is only sentence vector with attention score\n"
     ]
    }
   ],
   "source": [
    "# Normalization, axis = 0, 1\n",
    "from sklearn.preprocessing import normalize\n",
    "for axis in [0, 1]:\n",
    "    x_scaler = normalize(train_att_sentences, axis=axis) \n",
    "    s = calc_score(x_scaler, y_train_df, x_scaler, y_train_df)\n",
    "    print(\"f1 score is {} when method is {}\".format(s, 'only sentence vector with attention score'))"
   ]
  },
  {
   "cell_type": "code",
   "execution_count": 119,
   "metadata": {},
   "outputs": [],
   "source": [
    "scaler = StandardScaler().fit(train_att_sentences) \n",
    "x_scaler = scaler.transform(train_att_sentences)"
   ]
  },
  {
   "cell_type": "code",
   "execution_count": 122,
   "metadata": {},
   "outputs": [
    {
     "name": "stdout",
     "output_type": "stream",
     "text": [
      "f1 score is 0.011299435028248588 when method is only sentence vector with attention score\n"
     ]
    }
   ],
   "source": [
    "s = calc_score(train_att_sentences, y_train_df, train_att_sentences, y_train_df)\n",
    "print(\"f1 score is {} when method is {}\".format(s, 'only sentence vector with attention score'))"
   ]
  },
  {
   "cell_type": "code",
   "execution_count": 102,
   "metadata": {},
   "outputs": [],
   "source": [
    "from sklearn.preprocessing import StandardScaler\n",
    "\n",
    "def preprocessing(x_train, x_test, att_train_feature=None, att_test_feature=None, method='no'):\n",
    "    # Load attention data and normalize \n",
    "    if method == 'concat':\n",
    "        x_train = np.concatenate((x_train, att_train_feature), axis=1)\n",
    "        x_test = np.concatenate((x_test, att_test_feature), axis=1)\n",
    "    elif method == 'multiply':\n",
    "        x_train = np.multiply(x_train, att_train_feature)\n",
    "        x_test = np.multiply(x_test, att_test_feature)\n",
    "    elif method == 'plus':\n",
    "        x_train = x_train + att_train_feature\n",
    "        x_test = x_test + att_test_feature\n",
    "    else:\n",
    "        x_train = att_train_feature\n",
    "        x_test = att_test_feature\n",
    "    \n",
    "    scaler = StandardScaler().fit(x_train) \n",
    "    x_train = scaler.transform(x_train)\n",
    "    x_test = scaler.transform(x_test)\n",
    "    \n",
    "    return x_train, x_test"
   ]
  },
  {
   "cell_type": "code",
   "execution_count": 114,
   "metadata": {},
   "outputs": [],
   "source": [
    "# v1 \n",
    "x_train_v1_concat, x_test_v1_concat = preprocessing(x_train, x_test, train_att_sentences, test_att_sentences, method='concat')\n",
    "x_train_v1_multiply, x_test_v1_multiply = preprocessing(x_train, x_test, train_att_sentences, test_att_sentences, method='multiply')\n",
    "x_train_v1_sentence, x_test_v1_sentence = preprocessing(x_train, x_test, train_att_sentences, test_att_sentences, method='plus')"
   ]
  },
  {
   "cell_type": "code",
   "execution_count": 115,
   "metadata": {
    "scrolled": true
   },
   "outputs": [
    {
     "name": "stdout",
     "output_type": "stream",
     "text": [
      "f1 score is 0.5924713584288052 when method is baseline(only glove)\n",
      "f1 score is 0.44509803921568625 when method is concat\n",
      "f1 score is 0.34560906515580736 when method is multiply\n"
     ]
    }
   ],
   "source": [
    "s = calc_score(x_train, y_train_df, x_test, y_test_df)\n",
    "print(\"f1 score is {} when method is {}\".format(s, 'baseline(only glove)'))\n",
    "s = calc_score(x_train_v1_concat, y_train_df, x_test_v1_concat, y_test_df)\n",
    "print(\"f1 score is {} when method is {}\".format(s, 'concat'))\n",
    "s = calc_score(x_train_v1_multiply, y_train_df, x_test_v1_multiply, y_test_df)\n",
    "print(\"f1 score is {} when method is {}\".format(s, 'multiply'))\n",
    "s = calc_score(x_train_v1_sentence, y_train_df, x_test_v1_sentence, y_test_df)\n",
    "print(\"f1 score is {} when method is {}\".format(s, 'only sentence vector with attention score'))"
   ]
  },
  {
   "cell_type": "markdown",
   "metadata": {},
   "source": [
    "\n",
    "## version 2\n",
    "\n",
    "This time we train the attention vector by using original text dataset, `source = '../preprocessed_data/restaurant/train.txt'`. This dataset contains 279859 training examples. \n",
    "\n",
    "\n",
    "version 1:\n",
    "- vocab: 45000\n",
    "\n",
    "There are two way to use the attention vector:\n",
    "- concatenate glove sentence vector and attention vector\n",
    "- multiply glove sentence vector and attention vector "
   ]
  },
  {
   "cell_type": "code",
   "execution_count": 141,
   "metadata": {},
   "outputs": [],
   "source": [
    "train_att_sentences = Path.cwd().parent.joinpath('code/output_dir/semeval-2016/train_att_sentences_v2.npy')\n",
    "test_att_sentences = Path.cwd().parent.joinpath('code/output_dir/semeval-2016/test_att_sentences_v2.npy')\n",
    "\n",
    "train_att_sentences = np.load(train_att_sentences)\n",
    "test_att_sentences = np.load(test_att_sentences)"
   ]
  },
  {
   "cell_type": "code",
   "execution_count": 149,
   "metadata": {},
   "outputs": [
    {
     "name": "stdout",
     "output_type": "stream",
     "text": [
      "f1 score is 0.15698478561549103 when method is only sentence vector with attention score\n",
      "f1 score is 0.18610747051114024 when method is only sentence vector with attention score\n"
     ]
    }
   ],
   "source": [
    "# No scaler, only training data\n",
    "s = calc_score(train_att_sentences, y_train_df, train_att_sentences, y_train_df)\n",
    "print(\"f1 score is {} when method is {}\".format(s, 'only sentence vector with attention score'))\n",
    "# No scaler, training data and test data\n",
    "s = calc_score(train_att_sentences, y_train_df, test_att_sentences, y_test_df)\n",
    "print(\"f1 score is {} when method is {}\".format(s, 'only sentence vector with attention score'))"
   ]
  },
  {
   "cell_type": "markdown",
   "metadata": {},
   "source": [
    "OMG! This is weird!"
   ]
  },
  {
   "cell_type": "code",
   "execution_count": 145,
   "metadata": {},
   "outputs": [
    {
     "name": "stdout",
     "output_type": "stream",
     "text": [
      "f1 score is 0.7078727723889016 when method is only sentence vector with attention score\n"
     ]
    }
   ],
   "source": [
    "# Standarlization\n",
    "scaler = StandardScaler().fit(train_att_sentences) \n",
    "x_scaler = scaler.transform(train_att_sentences)\n",
    "# training on training data and test on training data\n",
    "s = calc_score(x_scaler, y_train_df, x_scaler, y_train_df)\n",
    "print(\"f1 score is {} when method is {}\".format(s, 'only sentence vector with attention score'))"
   ]
  },
  {
   "cell_type": "code",
   "execution_count": 146,
   "metadata": {},
   "outputs": [
    {
     "name": "stdout",
     "output_type": "stream",
     "text": [
      "f1 score is 0.5182926829268293 when method is only sentence vector with attention score\n"
     ]
    }
   ],
   "source": [
    "# Standarlization\n",
    "scaler = StandardScaler().fit(train_att_sentences) \n",
    "x_scaler = scaler.transform(train_att_sentences)\n",
    "x_scaler_test = scaler.transform(test_att_sentences)\n",
    "# training on training data and test on test data\n",
    "s = calc_score(x_scaler, y_train_df, x_scaler_test, y_test_df)\n",
    "print(\"f1 score is {} when method is {}\".format(s, 'only sentence vector with attention score'))"
   ]
  },
  {
   "cell_type": "code",
   "execution_count": null,
   "metadata": {},
   "outputs": [],
   "source": []
  }
 ],
 "metadata": {
  "kernelspec": {
   "display_name": "Python [default]",
   "language": "python",
   "name": "python3"
  },
  "language_info": {
   "codemirror_mode": {
    "name": "ipython",
    "version": 3
   },
   "file_extension": ".py",
   "mimetype": "text/x-python",
   "name": "python",
   "nbconvert_exporter": "python",
   "pygments_lexer": "ipython3",
   "version": "3.6.4"
  }
 },
 "nbformat": 4,
 "nbformat_minor": 2
}
